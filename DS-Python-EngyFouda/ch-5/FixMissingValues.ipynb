{
 "cells": [
  {
   "cell_type": "markdown",
   "id": "9039aa55",
   "metadata": {},
   "source": [
    "# How to fix missing values\n",
    "There are different types of missing values, like null, blank or white space, NA, nana, NaN, or some random characture. In python null, , NA, nana, NaN are interpreted as NaN and handles as missing value. Here, None, none, na, Null are not interpreted as missing value.  Hence we need to write a docde for it."
   ]
  },
  {
   "cell_type": "code",
   "execution_count": null,
   "id": "5ed031b3",
   "metadata": {},
   "outputs": [
    {
     "name": "stdout",
     "output_type": "stream",
     "text": [
      "new dataframe: \n",
      "<class 'pandas.core.frame.DataFrame'>\n",
      "RangeIndex: 0 entries\n",
      "Data columns (total 2 columns):\n",
      " #   Column   Non-Null Count  Dtype \n",
      "---  ------   --------------  ----- \n",
      " 0   Height   0 non-null      object\n",
      " 1   Missing  0 non-null      object\n",
      "dtypes: object(2)\n",
      "memory usage: 132.0+ bytes\n",
      "None\n",
      "        Height  Missing\n",
      "0   164.981605    False\n",
      "1          NaN     True\n",
      "2          NaN     True\n",
      "3   188.796394    False\n",
      "4          NaN     True\n",
      "5   156.239781    False\n",
      "6         none    False\n",
      "7   184.647046    False\n",
      "8           na    False\n",
      "9          NaN     True\n",
      "10  170.990257    False\n",
      "11        Null    False\n",
      "12  183.297706    False\n",
      "13         NaN     True\n",
      "14  161.649166    False\n",
      "15         NaN     True\n",
      "16   162.16969    False\n",
      "17           .    False\n",
      "18  167.277801    False\n",
      "19           ?    False\n"
     ]
    }
   ],
   "source": [
    "import pandas as pd\n",
    "import numpy as np\n",
    "import matplotlib.pyplot as plt\n",
    "\n",
    "#import data from xls\n",
    "student_df = pd.read_excel('./missing.xlsx')\n",
    "# print(student_df)\n",
    "\n",
    "#summary height\n",
    "# print(\"Height summary\", student_df['Height'].describe())\n",
    "\n",
    "#clean data, create new dataframe with two column Height and Missing value\n",
    "cleaner_df = pd.DataFrame(columns=['Height','Missing'])\n",
    "\n",
    "print(f'new dataframe: ')\n",
    "print(f'{cleaner_df.info()}')\n",
    "\n",
    "#put Height values in new dataframe\n",
    "cleaner_df['Height'] = student_df['Height']\n",
    "cleaner_df['Missing'] = student_df['Height'].isnull()\n",
    "print(cleaner_df)\n",
    "\n"
   ]
  },
  {
   "cell_type": "code",
   "execution_count": 11,
   "id": "15b051c2",
   "metadata": {},
   "outputs": [
    {
     "name": "stdout",
     "output_type": "stream",
     "text": [
      "    No       Name      Height     Weight   Age\n",
      "0    0   Student1  164.981605  72.533380  16.0\n",
      "1    1   Student2         NaN  51.277224   NaN\n",
      "2    2   Student3  179.279758  58.146509  22.0\n",
      "3    3   Student4  188.796394        NaN  24.0\n",
      "4    4   Student5         NaN  65.523149  20.0\n",
      "5    5   Student6  156.239781  80.332918  23.0\n",
      "6    6   Student7         NaN  49.395245   NaN\n",
      "7    7   Student8  184.647046  68.140550  21.0\n",
      "8    8   Student9  174.044600        NaN  19.0\n",
      "9    9  Student10  152.323344  53.985320  10.0\n",
      "10  10  Student11  170.990257  72.339518  19.0\n",
      "11  11  Student12         NaN  52.673586  23.0\n",
      "12  12  Student13  183.297706  47.927322  23.0\n",
      "13  13  Student14         NaN  87.699849  23.0\n",
      "14  14  Student15  161.649166  64.806862  17.0\n",
      "15  15  Student16         NaN  81.377881   NaN\n",
      "16  16  Student17  162.169690        NaN  23.0\n",
      "17  17  Student18         NaN  47.090269   5.0\n",
      "18  18  Student19  167.277801  75.790486  24.0\n",
      "19  19  Student20         NaN  61.486283  11.0 \n",
      "\n",
      "\n",
      "\n",
      "    No       Name      Height     Weight   Age\n",
      "0    0   Student1  164.981605  72.533380  16.0\n",
      "1    1   Student2    0.000000  51.277224   0.0\n",
      "2    2   Student3  179.279758  58.146509  22.0\n",
      "3    3   Student4  188.796394   0.000000  24.0\n",
      "4    4   Student5    0.000000  65.523149  20.0\n",
      "5    5   Student6  156.239781  80.332918  23.0\n",
      "6    6   Student7    0.000000  49.395245   0.0\n",
      "7    7   Student8  184.647046  68.140550  21.0\n",
      "8    8   Student9  174.044600   0.000000  19.0\n",
      "9    9  Student10  152.323344  53.985320  10.0\n",
      "10  10  Student11  170.990257  72.339518  19.0\n",
      "11  11  Student12    0.000000  52.673586  23.0\n",
      "12  12  Student13  183.297706  47.927322  23.0\n",
      "13  13  Student14    0.000000  87.699849  23.0\n",
      "14  14  Student15  161.649166  64.806862  17.0\n",
      "15  15  Student16    0.000000  81.377881   0.0\n",
      "16  16  Student17  162.169690   0.000000  23.0\n",
      "17  17  Student18    0.000000  47.090269   5.0\n",
      "18  18  Student19  167.277801  75.790486  24.0\n",
      "19  19  Student20    0.000000  61.486283  11.0\n"
     ]
    }
   ],
   "source": [
    "#looping over dataframe and fixing missing values\n",
    "import pandas as pd\n",
    "import numpy as np\n",
    "\n",
    "#import data\n",
    "student_df = pd.read_excel('./missing_null.xlsx')\n",
    "\n",
    "print(student_df,'\\n\\n\\n')\n",
    "\n",
    "for i in student_df.columns:\n",
    "    student_df[i]=student_df[i].fillna(0)\n",
    "print(student_df)"
   ]
  }
 ],
 "metadata": {
  "kernelspec": {
   "display_name": "Python 3",
   "language": "python",
   "name": "python3"
  },
  "language_info": {
   "codemirror_mode": {
    "name": "ipython",
    "version": 3
   },
   "file_extension": ".py",
   "mimetype": "text/x-python",
   "name": "python",
   "nbconvert_exporter": "python",
   "pygments_lexer": "ipython3",
   "version": "3.13.5"
  }
 },
 "nbformat": 4,
 "nbformat_minor": 5
}
