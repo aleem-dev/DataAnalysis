{
 "cells": [
  {
   "cell_type": "markdown",
   "id": "1060c814",
   "metadata": {},
   "source": [
    "# Loops\n",
    "there are two type of loops in python for iteration. while and for\n",
    "\n",
    "### while loop: \n",
    "it is used if you dont know the number of iterations and rely on a condition to be falsue to exit the loop\n",
    "\n",
    "### for loop: \n",
    "it is used when you know the number of iterations, or loop over a certain container variable, or within a specific range of numbers."
   ]
  },
  {
   "cell_type": "code",
   "execution_count": 2,
   "id": "c3eb60e8",
   "metadata": {},
   "outputs": [
    {
     "name": "stdout",
     "output_type": "stream",
     "text": [
      "Your input is odd\n",
      "Your input is odd\n",
      "your input is even\n",
      "Your input is odd\n",
      "your input is even\n",
      "Your input is odd\n",
      "Bye and have a great day\n"
     ]
    }
   ],
   "source": [
    "#While loop\n",
    "#check user input is odd or even, exit program if user press 0\n",
    "\n",
    "#input the first number form the user before the loop\n",
    "input_no = int(input('Enter your number (0 to exit): '))\n",
    "\n",
    "while input_no != 0:\n",
    "    if input_no%2==0:\n",
    "        print('your input is even')\n",
    "    else:\n",
    "        print('Your input is odd')\n",
    "    input_no = int(input('Enter your number (0 to exit): '))\n",
    "else: #runs when 0 is pressed by user\n",
    "    print(\"Bye and have a great day\")"
   ]
  },
  {
   "cell_type": "code",
   "execution_count": 3,
   "id": "5c6fac37",
   "metadata": {},
   "outputs": [
    {
     "name": "stdout",
     "output_type": "stream",
     "text": [
      "num:  1\n",
      "sum:  1\n",
      "num:  3\n",
      "sum:  4\n",
      "num:  5\n",
      "sum:  9\n",
      "num:  7\n",
      "sum:  16\n",
      "num:  9\n",
      "sum:  25\n"
     ]
    }
   ],
   "source": [
    "# for loop\n",
    "# add odd numbers from 0 to 10\n",
    "\n",
    "sum = 0\n",
    "\n",
    "for num in range(1,10):\n",
    "    if num%2!=0:\n",
    "        sum+=num\n",
    "        print('num: ',num)\n",
    "        print('sum: ',sum)"
   ]
  },
  {
   "cell_type": "code",
   "execution_count": 4,
   "id": "13845957",
   "metadata": {},
   "outputs": [
    {
     "name": "stdout",
     "output_type": "stream",
     "text": [
      "n\n",
      "o\n",
      "h\n",
      "t\n",
      "y\n",
      "P\n"
     ]
    }
   ],
   "source": [
    "# looping over string\n",
    "# reverse the string\n",
    "for letter in 'Python'[::-1]:\n",
    "    print(letter)"
   ]
  },
  {
   "cell_type": "code",
   "execution_count": 6,
   "id": "f0976ff7",
   "metadata": {},
   "outputs": [
    {
     "name": "stdout",
     "output_type": "stream",
     "text": [
      "n\n",
      "o\n",
      "h\n",
      "t\n",
      "y\n",
      "P\n"
     ]
    }
   ],
   "source": [
    "#print string in reverse order\n",
    "p='Python'\n",
    "for i in range(len(p),0,-1):\n",
    "    print(p[i-1])"
   ]
  },
  {
   "cell_type": "code",
   "execution_count": 7,
   "id": "b61a103b",
   "metadata": {},
   "outputs": [
    {
     "name": "stdout",
     "output_type": "stream",
     "text": [
      "I*Love*Python*"
     ]
    }
   ],
   "source": [
    "# Looping over list\n",
    "my_list = ['I','Love','Python']\n",
    "for c in my_list:\n",
    "    print(c, end='*')"
   ]
  },
  {
   "cell_type": "code",
   "execution_count": 10,
   "id": "ed092a90",
   "metadata": {},
   "outputs": [
    {
     "name": "stdout",
     "output_type": "stream",
     "text": [
      "    No       Name      Height     Weight   Age\n",
      "0    0   Student1  164.981605  72.533380  16.0\n",
      "1    1   Student2         NaN  51.277224   NaN\n",
      "2    2   Student3  179.279758  58.146509  22.0\n",
      "3    3   Student4  188.796394        NaN  24.0\n",
      "4    4   Student5         NaN  65.523149  20.0\n",
      "5    5   Student6  156.239781  80.332918  23.0\n",
      "6    6   Student7         NaN  49.395245   NaN\n",
      "7    7   Student8  184.647046  68.140550  21.0\n",
      "8    8   Student9  174.044600        NaN  19.0\n",
      "9    9  Student10  152.323344  53.985320  10.0\n",
      "10  10  Student11  170.990257  72.339518  19.0\n",
      "11  11  Student12         NaN  52.673586  23.0\n",
      "12  12  Student13  183.297706  47.927322  23.0\n",
      "13  13  Student14         NaN  87.699849  23.0\n",
      "14  14  Student15  161.649166  64.806862  17.0\n",
      "15  15  Student16         NaN  81.377881   NaN\n",
      "16  16  Student17  162.169690        NaN  23.0\n",
      "17  17  Student18         NaN  47.090269   5.0\n",
      "18  18  Student19  167.277801  75.790486  24.0\n",
      "19  19  Student20         NaN  61.486283  11.0 \n",
      "\n",
      "\n",
      "\n",
      "    No       Name      Height     Weight   Age\n",
      "0    0   Student1  164.981605  72.533380  16.0\n",
      "1    1   Student2    0.000000  51.277224   0.0\n",
      "2    2   Student3  179.279758  58.146509  22.0\n",
      "3    3   Student4  188.796394   0.000000  24.0\n",
      "4    4   Student5    0.000000  65.523149  20.0\n",
      "5    5   Student6  156.239781  80.332918  23.0\n",
      "6    6   Student7    0.000000  49.395245   0.0\n",
      "7    7   Student8  184.647046  68.140550  21.0\n",
      "8    8   Student9  174.044600   0.000000  19.0\n",
      "9    9  Student10  152.323344  53.985320  10.0\n",
      "10  10  Student11  170.990257  72.339518  19.0\n",
      "11  11  Student12    0.000000  52.673586  23.0\n",
      "12  12  Student13  183.297706  47.927322  23.0\n",
      "13  13  Student14    0.000000  87.699849  23.0\n",
      "14  14  Student15  161.649166  64.806862  17.0\n",
      "15  15  Student16    0.000000  81.377881   0.0\n",
      "16  16  Student17  162.169690   0.000000  23.0\n",
      "17  17  Student18    0.000000  47.090269   5.0\n",
      "18  18  Student19  167.277801  75.790486  24.0\n",
      "19  19  Student20    0.000000  61.486283  11.0\n"
     ]
    }
   ],
   "source": [
    "#looping over dataframe\n",
    "import pandas as pd\n",
    "import numpy as np\n",
    "\n",
    "#import data\n",
    "student_df = pd.read_excel('./missing_null.xlsx')\n",
    "\n",
    "print(student_df,'\\n\\n\\n')\n",
    "\n",
    "for i in student_df.columns:\n",
    "    student_df[i]=student_df[i].fillna(0)\n",
    "print(student_df)"
   ]
  }
 ],
 "metadata": {
  "kernelspec": {
   "display_name": "Python 3",
   "language": "python",
   "name": "python3"
  },
  "language_info": {
   "codemirror_mode": {
    "name": "ipython",
    "version": 3
   },
   "file_extension": ".py",
   "mimetype": "text/x-python",
   "name": "python",
   "nbconvert_exporter": "python",
   "pygments_lexer": "ipython3",
   "version": "3.13.5"
  }
 },
 "nbformat": 4,
 "nbformat_minor": 5
}
