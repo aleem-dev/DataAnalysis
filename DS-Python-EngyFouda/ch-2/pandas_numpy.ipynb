{
 "cells": [
  {
   "cell_type": "markdown",
   "id": "d325a913",
   "metadata": {},
   "source": [
    "# Overview of Pandas and Numpy\n",
    "## Pandas\n",
    "Pandas is used to process data, it is like excel sheet, with rows and columns.  Columns have their respective name and Rows has index number.\n",
    "\n",
    "Pandas provide functionality to load data from multiple source.  Process data cleanup, removing empty cells, or rows.  Validate and get quick insight on dataset.\n",
    "\n",
    "Pandas also helps in creating data models and perform analysis.\n",
    "\n",
    "There are two key concept 1st Dataframe and 2nd Dataseries.  As descripbed earlier dataframes are made out of columns and rows.  And on the other hand dataseries is single dimention array having any type of data, similar to a column."
   ]
  },
  {
   "cell_type": "code",
   "execution_count": 1,
   "id": "7ec12884",
   "metadata": {},
   "outputs": [
    {
     "name": "stdout",
     "output_type": "stream",
     "text": [
      "Pandas DataFrame df: \n",
      "    a  b  c\n",
      "0  1  4  7\n",
      "1  2  5  8\n",
      "2  3  6  9\n",
      "Pandas data series: \n",
      " 0    1\n",
      "1    2\n",
      "2    3\n",
      "Name: a, dtype: int64\n"
     ]
    }
   ],
   "source": [
    "import pandas as pd\n",
    "\n",
    "df = pd.DataFrame({\n",
    "    'a':[1,2,3],\n",
    "    'b':[4,5,6],\n",
    "    'c':[7,8,9]\n",
    "})\n",
    "\n",
    "print(f\"Pandas DataFrame df: \\n {df}\")\n",
    "\n",
    "data_series = df['a']\n",
    "\n",
    "print(f\"Pandas data series: \\n {data_series}\")"
   ]
  },
  {
   "cell_type": "markdown",
   "id": "ea6dbb3f",
   "metadata": {},
   "source": [
    "Basic operation in pandas\n",
    "df.info(): provides details about dataframe and type of data it holds\n",
    "df.describe(): provide statastical overview of the data column having numerical values, like mean, median, max, min, percentile\n",
    "df.head(): provides top 5 rows of the datasets along with column headings"
   ]
  },
  {
   "cell_type": "code",
   "execution_count": 13,
   "id": "ce20f0ff",
   "metadata": {},
   "outputs": [
    {
     "name": "stdout",
     "output_type": "stream",
     "text": [
      "Pandas data series:\n",
      "<class 'pandas.core.frame.DataFrame'>\n",
      "RangeIndex: 3 entries, 0 to 2\n",
      "Data columns (total 3 columns):\n",
      " #   Column  Non-Null Count  Dtype\n",
      "---  ------  --------------  -----\n",
      " 0   a       3 non-null      int64\n",
      " 1   b       3 non-null      int64\n",
      " 2   c       3 non-null      int64\n",
      "dtypes: int64(3)\n",
      "memory usage: 204.0 bytes\n"
     ]
    },
    {
     "data": {
      "text/html": [
       "<div>\n",
       "<style scoped>\n",
       "    .dataframe tbody tr th:only-of-type {\n",
       "        vertical-align: middle;\n",
       "    }\n",
       "\n",
       "    .dataframe tbody tr th {\n",
       "        vertical-align: top;\n",
       "    }\n",
       "\n",
       "    .dataframe thead th {\n",
       "        text-align: right;\n",
       "    }\n",
       "</style>\n",
       "<table border=\"1\" class=\"dataframe\">\n",
       "  <thead>\n",
       "    <tr style=\"text-align: right;\">\n",
       "      <th></th>\n",
       "      <th>a</th>\n",
       "      <th>b</th>\n",
       "      <th>c</th>\n",
       "    </tr>\n",
       "  </thead>\n",
       "  <tbody>\n",
       "    <tr>\n",
       "      <th>0</th>\n",
       "      <td>1</td>\n",
       "      <td>4</td>\n",
       "      <td>7</td>\n",
       "    </tr>\n",
       "    <tr>\n",
       "      <th>1</th>\n",
       "      <td>2</td>\n",
       "      <td>5</td>\n",
       "      <td>8</td>\n",
       "    </tr>\n",
       "    <tr>\n",
       "      <th>2</th>\n",
       "      <td>3</td>\n",
       "      <td>6</td>\n",
       "      <td>9</td>\n",
       "    </tr>\n",
       "  </tbody>\n",
       "</table>\n",
       "</div>"
      ],
      "text/plain": [
       "   a  b  c\n",
       "0  1  4  7\n",
       "1  2  5  8\n",
       "2  3  6  9"
      ]
     },
     "execution_count": 13,
     "metadata": {},
     "output_type": "execute_result"
    }
   ],
   "source": [
    "import pandas as pd\n",
    "\n",
    "df = pd.DataFrame({\n",
    "    'a':[1,2,3],\n",
    "    'b':[4,5,6],\n",
    "    'c':[7,8,9]\n",
    "})\n",
    "\n",
    "#print(f\"Pandas DataFrame df: \\n {df}\")\n",
    "\n",
    "print(f\"Pandas data series:\")\n",
    "df.info()\n",
    "df.describe()\n",
    "df.head()"
   ]
  },
  {
   "cell_type": "markdown",
   "id": "65344f5b",
   "metadata": {},
   "source": [
    "## Numpy\n",
    "Numpy is foundational library for Python to perform mathemetical calculation.  Numpy is implemented in C, it makes it fast and provides efficient way to implement mathematical operations on large data series.\n",
    "\n",
    "Numpy array can be single dimention a series of data or multidimention like metrix.  It can perform methematica operation on single or multidimentional array.\n",
    "\n",
    "Some of the basic operation, creating metrix, mathemetical operation on metrix, indexing and slicing, reshaping arrays."
   ]
  },
  {
   "cell_type": "code",
   "execution_count": 16,
   "id": "08b6e551",
   "metadata": {},
   "outputs": [
    {
     "name": "stdout",
     "output_type": "stream",
     "text": [
      "Numpy array arr1: \n",
      " [1 2 3 4 5]\n",
      "Numpy array arr2: \n",
      " [[1 2 3]\n",
      " [4 5 6]]\n"
     ]
    }
   ],
   "source": [
    "# create single and multi dimention numpy array\n",
    "import numpy as np\n",
    "arr1 = np.array([1,2,3,4,5])\n",
    "arr2 = np.array([[1,2,3],[4,5,6]])\n",
    "print(f\"Numpy array arr1: \\n {arr1}\")\n",
    "print(f\"Numpy array arr2: \\n {arr2}\")"
   ]
  },
  {
   "cell_type": "code",
   "execution_count": 19,
   "id": "c5eebf4f",
   "metadata": {},
   "outputs": [
    {
     "name": "stdout",
     "output_type": "stream",
     "text": [
      "Numpy generated 3 x 3 matrix: [[0. 0. 0.]\n",
      " [0. 0. 0.]\n",
      " [0. 0. 0.]]\n",
      "Numpy generated 2 x 2 matrix: \n",
      " [[1. 1.]\n",
      " [1. 1.]]\n"
     ]
    }
   ],
   "source": [
    "# generate matrix\n",
    "import numpy as np\n",
    "\n",
    "zeros = np.zeros((3,3))\n",
    "ones = np.ones((2,2))\n",
    "\n",
    "print(f\"Numpy generated 3 x 3 matrix: {zeros}\")\n",
    "print(f\"Numpy generated 2 x 2 matrix: \\n {ones}\")"
   ]
  },
  {
   "cell_type": "code",
   "execution_count": 21,
   "id": "342d88c9",
   "metadata": {},
   "outputs": [
    {
     "name": "stdout",
     "output_type": "stream",
     "text": [
      "arr1: [1 2 3 4 5]\n",
      "arr2: [5 6 7 8 9]\n",
      "sum of arr1 and arr2: [ 6  8 10 12 14]\n",
      "sqare of arr3: [ 36  64 100 144 196]\n",
      "mean of arr3: 10.0\n",
      "median of arr3: 10.0\n"
     ]
    }
   ],
   "source": [
    "# numpy arithmetic operation on matrix\n",
    "import numpy as np\n",
    "\n",
    "arr1 = np.array([1,2,3,4,5])\n",
    "arr2 = np.array([5,6,7,8,9])\n",
    "\n",
    "arr3 = arr1 + arr2\n",
    "\n",
    "print(f\"arr1: {arr1}\")\n",
    "print(f\"arr2: {arr2}\")\n",
    "print(f\"sum of arr1 and arr2: {arr3}\")\n",
    "\n",
    "print(f\"sqare of arr3: {np.square(arr3)}\")\n",
    "print(f\"mean of arr3: {np.mean(arr3)}\")\n",
    "print(f\"median of arr3: {np.median(arr3)}\")"
   ]
  },
  {
   "cell_type": "code",
   "execution_count": 23,
   "id": "cc93f010",
   "metadata": {},
   "outputs": [
    {
     "name": "stdout",
     "output_type": "stream",
     "text": [
      "value of numpy array arr: [1 2 3 4 5 6]\n",
      "value at index 2: 3\n",
      "slice arr elements from 2 to 4: [3 4]\n"
     ]
    }
   ],
   "source": [
    "#indexing and slicing\n",
    "import numpy as np\n",
    "\n",
    "arr = np.array([1,2,3,4,5,6])\n",
    "print(f\"value of numpy array arr: {arr}\")\n",
    "\n",
    "print(f\"value at index 2: {arr[2]}\")\n",
    "\n",
    "print(f\"slice arr elements from 2 to 4: {arr[2:4]}\")\n"
   ]
  },
  {
   "cell_type": "code",
   "execution_count": 27,
   "id": "09e84593",
   "metadata": {},
   "outputs": [
    {
     "name": "stdout",
     "output_type": "stream",
     "text": [
      "numpy array arr: \n",
      " [[1 2 3]\n",
      " [4 5 6]]\n",
      "reshaped arr: \n",
      " [[1 2]\n",
      " [3 4]\n",
      " [5 6]]\n"
     ]
    }
   ],
   "source": [
    "#reshape numpy array\n",
    "import numpy as np\n",
    "\n",
    "arr = np.array([[1,2,3],[4,5,6]])\n",
    "print(f\"numpy array arr: \\n {arr}\")\n",
    "\n",
    "reshaped_arr = arr.reshape((3,2))\n",
    "print(f\"reshaped arr: \\n {reshaped_arr}\")"
   ]
  }
 ],
 "metadata": {
  "kernelspec": {
   "display_name": "Python 3",
   "language": "python",
   "name": "python3"
  },
  "language_info": {
   "codemirror_mode": {
    "name": "ipython",
    "version": 3
   },
   "file_extension": ".py",
   "mimetype": "text/x-python",
   "name": "python",
   "nbconvert_exporter": "python",
   "pygments_lexer": "ipython3",
   "version": "3.13.5"
  }
 },
 "nbformat": 4,
 "nbformat_minor": 5
}
