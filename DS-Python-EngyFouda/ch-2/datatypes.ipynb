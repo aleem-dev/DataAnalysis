{
 "cells": [
  {
   "cell_type": "markdown",
   "id": "9cbadbd9",
   "metadata": {},
   "source": [
    "# Example"
   ]
  },
  {
   "cell_type": "markdown",
   "id": "32c36fe5",
   "metadata": {},
   "source": [
    "# line below"
   ]
  },
  {
   "cell_type": "markdown",
   "id": "e01830b5",
   "metadata": {},
   "source": [
    "# Data types\n",
    "## 1 Numeric Type\n",
    "### int, float, complex"
   ]
  },
  {
   "cell_type": "code",
   "execution_count": 3,
   "id": "b2e84342",
   "metadata": {},
   "outputs": [
    {
     "name": "stdout",
     "output_type": "stream",
     "text": [
      "Data type of i:  <class 'int'>\n"
     ]
    }
   ],
   "source": [
    "i = 42\n",
    "print(\"Data type of i: \",type(i))"
   ]
  },
  {
   "cell_type": "code",
   "execution_count": 4,
   "id": "5802c4b9",
   "metadata": {},
   "outputs": [
    {
     "name": "stdout",
     "output_type": "stream",
     "text": [
      "Data type of f:  <class 'float'>\n"
     ]
    }
   ],
   "source": [
    "f = 3.14\n",
    "print(\"Data type of f: \", type(f))"
   ]
  },
  {
   "cell_type": "code",
   "execution_count": 5,
   "id": "770cef9e",
   "metadata": {},
   "outputs": [
    {
     "name": "stdout",
     "output_type": "stream",
     "text": [
      "Data type of comp:  <class 'complex'>\n"
     ]
    }
   ],
   "source": [
    "comp = 1+3j\n",
    "print(\"Data type of comp: \", type(comp))"
   ]
  },
  {
   "cell_type": "markdown",
   "id": "bc00b570",
   "metadata": {},
   "source": [
    "## Sequence Type\n",
    "### str, list, tuple"
   ]
  },
  {
   "cell_type": "code",
   "execution_count": 6,
   "id": "aca8d7fd",
   "metadata": {},
   "outputs": [
    {
     "name": "stdout",
     "output_type": "stream",
     "text": [
      "Data type of buff:  <class 'str'>\n"
     ]
    }
   ],
   "source": [
    "buff = 'quick brown fox'\n",
    "print(\"Data type of buff: \", type(buff))"
   ]
  },
  {
   "cell_type": "code",
   "execution_count": 7,
   "id": "9da52551",
   "metadata": {},
   "outputs": [
    {
     "name": "stdout",
     "output_type": "stream",
     "text": [
      "Data type of lst:  <class 'list'>\n"
     ]
    }
   ],
   "source": [
    "lst = [1,2,3,4,5]\n",
    "print(\"Data type of lst: \", type(lst))"
   ]
  },
  {
   "cell_type": "code",
   "execution_count": 8,
   "id": "35468e7e",
   "metadata": {},
   "outputs": [
    {
     "name": "stdout",
     "output_type": "stream",
     "text": [
      "Data type of tpl:  <class 'tuple'>\n"
     ]
    }
   ],
   "source": [
    "tpl = (1,2,3,4,5)\n",
    "print(\"Data type of tpl: \", type(tpl))"
   ]
  },
  {
   "cell_type": "markdown",
   "id": "f6cc5204",
   "metadata": {},
   "source": [
    "## Mapping types\n",
    "### Dict"
   ]
  },
  {
   "cell_type": "code",
   "execution_count": 9,
   "id": "5a839b15",
   "metadata": {},
   "outputs": [
    {
     "name": "stdout",
     "output_type": "stream",
     "text": [
      "Data type of dct:  <class 'dict'>\n"
     ]
    }
   ],
   "source": [
    "dct = {\n",
    "    'Make': 'Toyota',\n",
    "    'Model':'Corolla',\n",
    "    'Sits': 5\n",
    "}\n",
    "print('Data type of dct: ', type(dct))"
   ]
  },
  {
   "cell_type": "markdown",
   "id": "db01024e",
   "metadata": {},
   "source": [
    "## Set type\n",
    "### set, frozenset"
   ]
  },
  {
   "cell_type": "code",
   "execution_count": 10,
   "id": "44c93012",
   "metadata": {},
   "outputs": [
    {
     "name": "stdout",
     "output_type": "stream",
     "text": [
      "Data type of st:  <class 'set'>\n"
     ]
    }
   ],
   "source": [
    "st = {1,2,3}\n",
    "print('Data type of st: ', type(st))"
   ]
  },
  {
   "cell_type": "code",
   "execution_count": 12,
   "id": "a306fe82",
   "metadata": {},
   "outputs": [
    {
     "name": "stdout",
     "output_type": "stream",
     "text": [
      "Data type of fst:  <class 'list'>\n"
     ]
    }
   ],
   "source": [
    "fst = ([1,2,3])\n",
    "print('Data type of fst: ', type(fst))"
   ]
  },
  {
   "cell_type": "markdown",
   "id": "56ebb187",
   "metadata": {},
   "source": [
    "## Boolean types\n",
    "### bool"
   ]
  },
  {
   "cell_type": "code",
   "execution_count": 13,
   "id": "a524d3e3",
   "metadata": {},
   "outputs": [
    {
     "name": "stdout",
     "output_type": "stream",
     "text": [
      "Data type of bl:  <class 'bool'>\n"
     ]
    }
   ],
   "source": [
    "bl = True\n",
    "print('Data type of bl: ', type(bl))"
   ]
  },
  {
   "cell_type": "markdown",
   "id": "908cd123",
   "metadata": {},
   "source": [
    "## Binary Types\n",
    "### bytes, bytearray, memoryview"
   ]
  },
  {
   "cell_type": "code",
   "execution_count": 14,
   "id": "8b521356",
   "metadata": {},
   "outputs": [
    {
     "name": "stdout",
     "output_type": "stream",
     "text": [
      "value of byt:  b'hello'\n",
      "Type of byt:  <class 'bytes'>\n"
     ]
    }
   ],
   "source": [
    "byt = b'hello'\n",
    "print('value of byt: ', byt)\n",
    "print('Type of byt: ', type(byt))"
   ]
  },
  {
   "cell_type": "code",
   "execution_count": 15,
   "id": "4d731d81",
   "metadata": {},
   "outputs": [
    {
     "name": "stdout",
     "output_type": "stream",
     "text": [
      "Value of bytarr:  bytearray(b'hello')\n",
      "Data type of bytarr:  <class 'bytearray'>\n"
     ]
    }
   ],
   "source": [
    "bytarr = bytearray(b'hello')\n",
    "print('Value of bytarr: ', bytarr)\n",
    "print('Data type of bytarr: ', type(bytarr))"
   ]
  },
  {
   "cell_type": "code",
   "execution_count": 16,
   "id": "61fc8c5b",
   "metadata": {},
   "outputs": [
    {
     "name": "stdout",
     "output_type": "stream",
     "text": [
      "Value of mmview:  <memory at 0x000001D197244B80>\n",
      "Type of mmview:  <class 'memoryview'>\n"
     ]
    }
   ],
   "source": [
    "mmview = memoryview(b'hello')\n",
    "print('Value of mmview: ', mmview)\n",
    "print('Type of mmview: ', type(mmview))"
   ]
  },
  {
   "cell_type": "markdown",
   "id": "3d3da674",
   "metadata": {},
   "source": [
    "1. Scalar types are simple datatypes that hold a single value.  It includes int, float, bool, complex, and str.\n",
    "\n",
    "2. Contaner types are data structes with multiple values, which can be of different datatypes,  This class includes list, tuple, dist, set and frozenset\n",
    "\n",
    "3. Advance type typically come from eternal libraries for more complex data structures and operation.\n",
    "\n",
    "## Advanced types\n",
    "### Pandas DataFrame, Pandas DataSeries, Numpy Array"
   ]
  },
  {
   "cell_type": "code",
   "execution_count": 23,
   "id": "b7fc4070",
   "metadata": {},
   "outputs": [
    {
     "name": "stdout",
     "output_type": "stream",
     "text": [
      "Pandas DataFrame:\n",
      "\n",
      "   A  B  C\n",
      "0  1  4  7\n",
      "1  2  5  8\n",
      "2  3  6  9\n",
      "Data type of df:  <class 'pandas.core.frame.DataFrame'>\n"
     ]
    }
   ],
   "source": [
    "import pandas as pd\n",
    "df = pd.DataFrame(\n",
    "    {\n",
    "        'A':[1,2,3],\n",
    "        'B':[4,5,6],\n",
    "        'C':[7,8,9]\n",
    "    }\n",
    ")\n",
    "print('Pandas DataFrame:\\n')\n",
    "print(df)\n",
    "print('Data type of df: ', type(df))"
   ]
  },
  {
   "cell_type": "code",
   "execution_count": 22,
   "id": "7a09396f",
   "metadata": {},
   "outputs": [
    {
     "name": "stdout",
     "output_type": "stream",
     "text": [
      "Pandas Serice Sr:\n",
      "\n",
      "0    1\n",
      "1    2\n",
      "2    3\n",
      "Name: A, dtype: int64\n",
      "Data type fo sr:  <class 'pandas.core.series.Series'>\n"
     ]
    }
   ],
   "source": [
    "import pandas as pd\n",
    "df = pd.DataFrame({\n",
    "    'A':[1,2,3],\n",
    "    'B':[4,5,6],\n",
    "    'C':[7,8,9]\n",
    "})\n",
    "sr = df['A']\n",
    "print(\"Pandas Serice Sr:\\n\")\n",
    "print(sr)\n",
    "print('Data type fo sr: ', type(sr))"
   ]
  },
  {
   "cell_type": "code",
   "execution_count": 21,
   "id": "aa4ab8aa",
   "metadata": {},
   "outputs": [
    {
     "name": "stdout",
     "output_type": "stream",
     "text": [
      "Numpy array: \n",
      "\n",
      "[1 2 3 4]\n",
      "Data type of arr:  <class 'numpy.ndarray'>\n"
     ]
    }
   ],
   "source": [
    "import numpy as np\n",
    "arr = np.array([1,2,3,4])\n",
    "print(\"Numpy array: \\n\")\n",
    "print(arr)\n",
    "print('Data type of arr: ', type(arr))"
   ]
  }
 ],
 "metadata": {
  "kernelspec": {
   "display_name": "Python 3",
   "language": "python",
   "name": "python3"
  },
  "language_info": {
   "codemirror_mode": {
    "name": "ipython",
    "version": 3
   },
   "file_extension": ".py",
   "mimetype": "text/x-python",
   "name": "python",
   "nbconvert_exporter": "python",
   "pygments_lexer": "ipython3",
   "version": "3.13.5"
  }
 },
 "nbformat": 4,
 "nbformat_minor": 5
}
