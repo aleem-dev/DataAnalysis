{
 "cells": [
  {
   "cell_type": "markdown",
   "id": "022fc135",
   "metadata": {},
   "source": [
    "# Typecasting\n",
    "## Scalar type casting\n",
    "1. int(): convert to an integer"
   ]
  },
  {
   "cell_type": "code",
   "execution_count": 4,
   "id": "6cf9ddea",
   "metadata": {},
   "outputs": [
    {
     "name": "stdout",
     "output_type": "stream",
     "text": [
      "value of x = 3  and type of x: <class 'int'>\n"
     ]
    }
   ],
   "source": [
    "x = int(3.14)\n",
    "print(f\"value of x = {x}  and type of x: {type(x)}\")"
   ]
  },
  {
   "cell_type": "markdown",
   "id": "c60df827",
   "metadata": {},
   "source": [
    "2. float(): convert to float value"
   ]
  },
  {
   "cell_type": "code",
   "execution_count": 1,
   "id": "1673c3f3",
   "metadata": {},
   "outputs": [
    {
     "name": "stdout",
     "output_type": "stream",
     "text": [
      "Value of x: 2.0 and data type of x: <class 'float'>\n"
     ]
    }
   ],
   "source": [
    "x = float(2)\n",
    "print(f\"Value of x: {x} and data type of x: {type(x)}\")"
   ]
  },
  {
   "cell_type": "markdown",
   "id": "812c869a",
   "metadata": {},
   "source": [
    "3. complex(): convert to complex number"
   ]
  },
  {
   "cell_type": "code",
   "execution_count": 2,
   "id": "35b1aed9",
   "metadata": {},
   "outputs": [
    {
     "name": "stdout",
     "output_type": "stream",
     "text": [
      "Value of x: (2+0j) and data type of x: <class 'complex'>\n"
     ]
    }
   ],
   "source": [
    "x = complex(2)\n",
    "print(f\"Value of x: {x} and data type of x: {type(x)}\")"
   ]
  },
  {
   "cell_type": "markdown",
   "id": "e79e425e",
   "metadata": {},
   "source": [
    "4 str(): conver to string"
   ]
  },
  {
   "cell_type": "code",
   "execution_count": 3,
   "id": "7e37d8d3",
   "metadata": {},
   "outputs": [
    {
     "name": "stdout",
     "output_type": "stream",
     "text": [
      "Value of x: 3.14 and data type of x: <class 'str'>\n"
     ]
    }
   ],
   "source": [
    "x = str(3.14)\n",
    "print(f\"Value of x: {x} and data type of x: {type(x)}\")"
   ]
  },
  {
   "cell_type": "markdown",
   "id": "705f269e",
   "metadata": {},
   "source": [
    "## Container Type\n",
    "1 list()"
   ]
  },
  {
   "cell_type": "code",
   "execution_count": 1,
   "id": "24c96e9c",
   "metadata": {},
   "outputs": [
    {
     "name": "stdout",
     "output_type": "stream",
     "text": [
      "Value of x: [1, 2, 3, 4] and data type of x: <class 'list'>\n"
     ]
    }
   ],
   "source": [
    "x = list((1,2,3,4))\n",
    "print(f\"Value of x: {x} and data type of x: {type(x)}\")"
   ]
  },
  {
   "cell_type": "markdown",
   "id": "e046a5c6",
   "metadata": {},
   "source": [
    "2 tuple()"
   ]
  },
  {
   "cell_type": "code",
   "execution_count": 2,
   "id": "d2dc3755",
   "metadata": {},
   "outputs": [
    {
     "name": "stdout",
     "output_type": "stream",
     "text": [
      "Value of x: (1, 2, 3, 4) and data type of x: <class 'tuple'>\n"
     ]
    }
   ],
   "source": [
    "x = tuple([1,2,3,4])\n",
    "print(f\"Value of x: {x} and data type of x: {type(x)}\")"
   ]
  },
  {
   "cell_type": "markdown",
   "id": "d5298b03",
   "metadata": {},
   "source": [
    "3 set()"
   ]
  },
  {
   "cell_type": "code",
   "execution_count": 3,
   "id": "f06293c9",
   "metadata": {},
   "outputs": [
    {
     "name": "stdout",
     "output_type": "stream",
     "text": [
      "Value of x: {1, 2, 3, 4} and data type of x: <class 'set'>\n"
     ]
    }
   ],
   "source": [
    "x = set([1,2,3,4])\n",
    "print(f\"Value of x: {x} and data type of x: {type(x)}\")"
   ]
  },
  {
   "cell_type": "markdown",
   "id": "11ca4dc0",
   "metadata": {},
   "source": [
    "4 frozenset()"
   ]
  },
  {
   "cell_type": "code",
   "execution_count": 4,
   "id": "2cd7baca",
   "metadata": {},
   "outputs": [
    {
     "name": "stdout",
     "output_type": "stream",
     "text": [
      "Value of x: frozenset({1, 2, 3, 4}) and data type of x: <class 'frozenset'>\n"
     ]
    }
   ],
   "source": [
    "x = frozenset([1,2,3,4])\n",
    "print(f\"Value of x: {x} and data type of x: {type(x)}\")"
   ]
  },
  {
   "cell_type": "markdown",
   "id": "772616d6",
   "metadata": {},
   "source": [
    "5 dict()"
   ]
  },
  {
   "cell_type": "code",
   "execution_count": 6,
   "id": "4538678f",
   "metadata": {},
   "outputs": [
    {
     "name": "stdout",
     "output_type": "stream",
     "text": [
      "Value of x: {'a': 1, 'b': 2} and data type of x: <class 'dict'>\n"
     ]
    }
   ],
   "source": [
    "x = dict([('a',1),('b',2)])\n",
    "print(f\"Value of x: {x} and data type of x: {type(x)}\")"
   ]
  },
  {
   "cell_type": "markdown",
   "id": "2237c76f",
   "metadata": {},
   "source": [
    "## Advance type casting\n",
    "1. to_numpy()"
   ]
  },
  {
   "cell_type": "code",
   "execution_count": 7,
   "id": "3b7320e5",
   "metadata": {},
   "outputs": [
    {
     "name": "stdout",
     "output_type": "stream",
     "text": [
      "pandas df: \n",
      "   a  b  c\n",
      "0  1  4  7\n",
      "1  2  5  8\n",
      "2  3  6  9\n",
      "Numpy array: \n",
      "[[1 4 7]\n",
      " [2 5 8]\n",
      " [3 6 9]]\n"
     ]
    }
   ],
   "source": [
    "import pandas as pd\n",
    "import numpy as np\n",
    "\n",
    "#create pandas dataframe\n",
    "df = pd.DataFrame({\n",
    "    'a':[1,2,3],\n",
    "    'b':[4,5,6],\n",
    "    'c':[7,8,9]\n",
    "})\n",
    "print(f\"pandas df: \\n{df}\")\n",
    "\n",
    "#cast to numpy array\n",
    "arr = df.to_numpy()\n",
    "print(f\"Numpy array: \\n{arr}\")"
   ]
  },
  {
   "cell_type": "markdown",
   "id": "0192e5d9",
   "metadata": {},
   "source": [
    "2. pd.dataframe():"
   ]
  },
  {
   "cell_type": "code",
   "execution_count": 8,
   "id": "546a0acb",
   "metadata": {},
   "outputs": [
    {
     "name": "stdout",
     "output_type": "stream",
     "text": [
      "Numpy arr: \n",
      " [[1 2 3]\n",
      " [4 5 6]\n",
      " [7 8 9]]\n",
      "pandas df: \n",
      "    a  b  c\n",
      "0  1  2  3\n",
      "1  4  5  6\n",
      "2  7  8  9\n"
     ]
    }
   ],
   "source": [
    "import pandas as pd\n",
    "import numpy as np\n",
    "\n",
    "#numpy array\n",
    "arr = np.array([\n",
    "    [1,2,3],\n",
    "    [4,5,6],\n",
    "    [7,8,9]\n",
    "])\n",
    "print(f\"Numpy arr: \\n {arr}\")\n",
    "\n",
    "#creating columns\n",
    "columns = ['a','b','c']\n",
    "\n",
    "#casting to pandas dataframe\n",
    "df= pd.DataFrame(arr,columns=columns)\n",
    "print(f\"pandas df: \\n {df}\")"
   ]
  }
 ],
 "metadata": {
  "kernelspec": {
   "display_name": "Python 3",
   "language": "python",
   "name": "python3"
  },
  "language_info": {
   "codemirror_mode": {
    "name": "ipython",
    "version": 3
   },
   "file_extension": ".py",
   "mimetype": "text/x-python",
   "name": "python",
   "nbconvert_exporter": "python",
   "pygments_lexer": "ipython3",
   "version": "3.13.5"
  }
 },
 "nbformat": 4,
 "nbformat_minor": 5
}
