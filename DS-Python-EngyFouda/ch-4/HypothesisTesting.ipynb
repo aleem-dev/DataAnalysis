{
 "cells": [
  {
   "cell_type": "markdown",
   "id": "9e09609b",
   "metadata": {},
   "source": [
    "# Hypothesis Testing\n",
    "\n",
    "It is a staticstical method to larn that are different parameters are related with each other or it is just a random occurance.\n",
    "\n",
    "For that, we are doing T-Test with One-Sample T-Test, and Two-Sample T-Test."
   ]
  },
  {
   "cell_type": "code",
   "execution_count": 8,
   "id": "de516485",
   "metadata": {},
   "outputs": [
    {
     "name": "stdout",
     "output_type": "stream",
     "text": [
      "Normality Test:\n",
      "ShapiroResult(statistic=np.float64(0.6303409987389212), pvalue=np.float64(4.903651437444615e-05))\n",
      "\n",
      "T-test\n",
      "T-statistic: 4.58257569495584\n",
      "P-Value:  0.0004263757573432252\n"
     ]
    }
   ],
   "source": [
    "import pandas as pd\n",
    "from spicy import stats\n",
    "\n",
    "#import data from xls\n",
    "maine_votes_df = pd.read_excel('./MaineVotesDR.xlsx')\n",
    "\n",
    "maine_votes_df.head()\n",
    "\n",
    "#Test for normality as we need to ensure that data is suitable for T-test\n",
    "normality_test = stats.shapiro(maine_votes_df['Result'])\n",
    "print(\"Normality Test:\")\n",
    "print(normality_test)\n",
    "#since the pvalue is tiny e raise to -5, means h0 is rejected\n",
    "\n",
    "#t-test\n",
    "t_stat, p_value = stats.ttest_1samp(maine_votes_df['Result'],0)\n",
    "print(\"\\nT-test\")\n",
    "print(\"T-statistic:\", t_stat)\n",
    "print(\"P-Value: \", p_value)"
   ]
  }
 ],
 "metadata": {
  "kernelspec": {
   "display_name": "Python 3",
   "language": "python",
   "name": "python3"
  },
  "language_info": {
   "codemirror_mode": {
    "name": "ipython",
    "version": 3
   },
   "file_extension": ".py",
   "mimetype": "text/x-python",
   "name": "python",
   "nbconvert_exporter": "python",
   "pygments_lexer": "ipython3",
   "version": "3.13.5"
  }
 },
 "nbformat": 4,
 "nbformat_minor": 5
}
