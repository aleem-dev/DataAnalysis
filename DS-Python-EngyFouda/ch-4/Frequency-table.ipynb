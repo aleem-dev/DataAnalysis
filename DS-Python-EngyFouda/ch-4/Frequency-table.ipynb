{
 "cells": [
  {
   "cell_type": "markdown",
   "id": "481aaa68",
   "metadata": {},
   "source": [
    "# Statistical Analysis and Linear Models\n",
    "## Frequency Tables\n",
    "Frequency tables is usually from the first steps when exploring any dataset.  It generates frequency tables from given data showing unique level of each variable. It also helps identify the outliers."
   ]
  },
  {
   "cell_type": "code",
   "execution_count": null,
   "id": "4781b249",
   "metadata": {},
   "outputs": [
    {
     "name": "stdout",
     "output_type": "stream",
     "text": [
      "  Chol_Status  Frequency\n",
      "0   Desirable       1405\n",
      "1        High       1791\n",
      "2  Borderline       1861\n"
     ]
    },
    {
     "name": "stderr",
     "output_type": "stream",
     "text": [
      "C:\\Users\\shaik\\AppData\\Local\\Temp\\ipykernel_4480\\3921118759.py:31: UserWarning: No artists with labels found to put in legend.  Note that artists whose label start with an underscore are ignored when legend() is called with no argument.\n",
      "  plt.legend()\n"
     ]
    },
    {
     "data": {
      "image/png": "[encoded data removed]",
      "text/plain": [
       "<Figure size 800x600 with 1 Axes>"
      ]
     },
     "metadata": {},
     "output_type": "display_data"
    },
    {
     "name": "stdout",
     "output_type": "stream",
     "text": [
      "<class 'pandas.core.frame.DataFrame'>\n",
      "RangeIndex: 5209 entries, 0 to 5208\n",
      "Data columns (total 17 columns):\n",
      " #   Column          Non-Null Count  Dtype  \n",
      "---  ------          --------------  -----  \n",
      " 0   Status          5209 non-null   object \n",
      " 1   DeathCause      1991 non-null   object \n",
      " 2   AgeCHDdiag      1449 non-null   float64\n",
      " 3   Sex             5209 non-null   object \n",
      " 4   AgeAtStart      5209 non-null   int64  \n",
      " 5   Height          5203 non-null   float64\n",
      " 6   Weight          5203 non-null   float64\n",
      " 7   Diastolic       5209 non-null   int64  \n",
      " 8   Systolic        5209 non-null   int64  \n",
      " 9   MRW             5203 non-null   float64\n",
      " 10  Smoking         5173 non-null   float64\n",
      " 11  AgeAtDeath      1991 non-null   float64\n",
      " 12  Cholesterol     5057 non-null   float64\n",
      " 13  Chol_Status     5057 non-null   object \n",
      " 14  BP_Status       5209 non-null   object \n",
      " 15  Weight_Status   5203 non-null   object \n",
      " 16  Smoking_Status  5173 non-null   object \n",
      "dtypes: float64(7), int64(3), object(7)\n",
      "memory usage: 691.9+ KB\n",
      "None\n",
      "count    1449.000000\n",
      "mean       63.302968\n",
      "std        10.018215\n",
      "min        32.000000\n",
      "25%        57.000000\n",
      "50%        63.000000\n",
      "75%        70.000000\n",
      "max        90.000000\n",
      "Name: AgeCHDdiag, dtype: float64\n",
      "count    5209.000000\n",
      "mean      136.909580\n",
      "std        23.739596\n",
      "min        82.000000\n",
      "25%       120.000000\n",
      "50%       132.000000\n",
      "75%       148.000000\n",
      "max       300.000000\n",
      "Name: Systolic, dtype: float64\n"
     ]
    }
   ],
   "source": [
    "#import data and create frequecy table, then plot it.\n",
    "\n",
    "import pandas as pd\n",
    "import matplotlib.pyplot as plt\n",
    "\n",
    "#load data from csv\n",
    "heart_df = pd.read_csv(\"./HEART.csv\")\n",
    "\n",
    "#udnerstand the data\n",
    "# heart_df.head()\n",
    "# heart_df.columns\n",
    "# heart_df.describe()\n",
    "# heart_df.info()\n",
    "\n",
    "#calculate frequency\n",
    "FreqTable = heart_df['Chol_Status'].value_counts(ascending=True).reset_index().rename(columns={'count':'Frequency'}) #if you use reset_index(), it will create dataframe or else it will create series\n",
    "# FreqTable.info()\n",
    "FreqTable.head()\n",
    "# FreqTable.columns\n",
    "# FreqTable.describe()\n",
    "\n",
    "# FreqTable = FreqTable.sort_values(by='Frequency', ascending=False) #there are two ways, either add argument to value_count(ascendi...) or this line\n",
    "print(FreqTable)\n",
    "\n",
    "#plot bar chart\n",
    "plt.figure(figsize=(8,6))\n",
    "plt.bar(FreqTable['Chol_Status'],FreqTable['Frequency'])\n",
    "plt.xlabel=('Chol_status')\n",
    "plt.ylabel=('Frequency')\n",
    "plt.title=('Frequency plot of Chol_Status')\n",
    "plt.legend()\n",
    "plt.show()\n",
    "\n",
    "#Statastical summary\n",
    "print(heart_df.info())\n",
    "print(heart_df['AgeCHDdiag'].describe())\n",
    "print(heart_df['Systolic'].describe())"
   ]
  }
 ],
 "metadata": {
  "kernelspec": {
   "display_name": "Python 3",
   "language": "python",
   "name": "python3"
  },
  "language_info": {
   "codemirror_mode": {
    "name": "ipython",
    "version": 3
   },
   "file_extension": ".py",
   "mimetype": "text/x-python",
   "name": "python",
   "nbconvert_exporter": "python",
   "pygments_lexer": "ipython3",
   "version": "3.13.5"
  }
 },
 "nbformat": 4,
 "nbformat_minor": 5
}
