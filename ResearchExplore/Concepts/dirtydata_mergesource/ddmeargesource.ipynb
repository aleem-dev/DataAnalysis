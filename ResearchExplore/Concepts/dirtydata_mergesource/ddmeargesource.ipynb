{
 "cells": [
  {
   "cell_type": "markdown",
   "id": "7fb4f0b9",
   "metadata": {},
   "source": [
    "Multiple APIs → pandas → Cleaning → SQLite → SQL → pandas → Visualization\n",
    "merge population data from two sources:\n",
    "\n",
    "REST Countries API: population by country\n",
    "\n",
    "Simulated Metadata: extra info like continent, income level, and country code\n",
    "\n",
    "Then:\n",
    "\n",
    "Clean inconsistencies (missing values, mismatched country names)\n",
    "\n",
    "Merge sources using safe joins\n",
    "\n",
    "Calculate regional probabilities\n",
    "\n",
    "Visualize and explain anomalies"
   ]
  },
  {
   "cell_type": "code",
   "execution_count": 3,
   "id": "9d7c5db1",
   "metadata": {},
   "outputs": [
    {
     "name": "stdout",
     "output_type": "stream",
     "text": [
      "  country_name       region        income code\n",
      "0        India         Asia  Lower middle   IN\n",
      "1       Canada     Americas          High   CA\n",
      "2      Germany       Europe          High   DE\n",
      "3       Narnia  Fantasyland          None   NA\n",
      "4       Brazil         None  Upper middle   BR\n"
     ]
    }
   ],
   "source": [
    "# Messy data\n",
    "import pandas as pd\n",
    "import pprint\n",
    "\n",
    "metadata = pd.DataFrame([\n",
    "    {\"country_name\": \"India\", \"region\": \"Asia\", \"income\": \"Lower middle\", \"code\": \"IN\"},\n",
    "    {\"country_name\": \"Canada\", \"region\": \"Americas\", \"income\": \"High\", \"code\": \"CA\"},\n",
    "    {\"country_name\": \"Germany\", \"region\": \"Europe\", \"income\": \"High\", \"code\": \"DE\"},\n",
    "    {\"country_name\": \"Narnia\", \"region\": \"Fantasyland\", \"income\": None, \"code\": \"NA\"},\n",
    "    {\"country_name\": \"Brazil\", \"region\": None, \"income\": \"Upper middle\", \"code\": \"BR\"},\n",
    "])\n",
    "\n",
    "pprint.pprint(metadata)"
   ]
  },
  {
   "cell_type": "code",
   "execution_count": null,
   "id": "7ee02512",
   "metadata": {},
   "outputs": [
    {
     "data": {
      "text/html": [
       "<div>\n",
       "<style scoped>\n",
       "    .dataframe tbody tr th:only-of-type {\n",
       "        vertical-align: middle;\n",
       "    }\n",
       "\n",
       "    .dataframe tbody tr th {\n",
       "        vertical-align: top;\n",
       "    }\n",
       "\n",
       "    .dataframe thead th {\n",
       "        text-align: right;\n",
       "    }\n",
       "</style>\n",
       "<table border=\"1\" class=\"dataframe\">\n",
       "  <thead>\n",
       "    <tr style=\"text-align: right;\">\n",
       "      <th></th>\n",
       "      <th>country_name</th>\n",
       "      <th>region</th>\n",
       "      <th>income</th>\n",
       "      <th>code</th>\n",
       "    </tr>\n",
       "  </thead>\n",
       "  <tbody>\n",
       "    <tr>\n",
       "      <th>0</th>\n",
       "      <td>India</td>\n",
       "      <td>Asia</td>\n",
       "      <td>Lower middle</td>\n",
       "      <td>IN</td>\n",
       "    </tr>\n",
       "    <tr>\n",
       "      <th>1</th>\n",
       "      <td>Canada</td>\n",
       "      <td>Americas</td>\n",
       "      <td>High</td>\n",
       "      <td>CA</td>\n",
       "    </tr>\n",
       "    <tr>\n",
       "      <th>2</th>\n",
       "      <td>Germany</td>\n",
       "      <td>Europe</td>\n",
       "      <td>High</td>\n",
       "      <td>DE</td>\n",
       "    </tr>\n",
       "    <tr>\n",
       "      <th>3</th>\n",
       "      <td>Narnia</td>\n",
       "      <td>Fantasyland</td>\n",
       "      <td>None</td>\n",
       "      <td>NA</td>\n",
       "    </tr>\n",
       "    <tr>\n",
       "      <th>4</th>\n",
       "      <td>Brazil</td>\n",
       "      <td>Americas</td>\n",
       "      <td>Upper middle</td>\n",
       "      <td>BR</td>\n",
       "    </tr>\n",
       "  </tbody>\n",
       "</table>\n",
       "</div>"
      ],
      "text/plain": [
       "  country_name       region        income code\n",
       "0        India         Asia  Lower middle   IN\n",
       "1       Canada     Americas          High   CA\n",
       "2      Germany       Europe          High   DE\n",
       "3       Narnia  Fantasyland          None   NA\n",
       "4       Brazil     Americas  Upper middle   BR"
      ]
     },
     "execution_count": 8,
     "metadata": {},
     "output_type": "execute_result"
    }
   ],
   "source": [
    "# updated region None value for Brazil to Americas\n",
    "metadata.loc[metadata['country_name'] == 'Brazil','region'] = 'Americas'\n",
    "metadata"
   ]
  },
  {
   "cell_type": "code",
   "execution_count": null,
   "id": "ec649f35",
   "metadata": {},
   "outputs": [
    {
     "name": "stdout",
     "output_type": "stream",
     "text": [
      "  country_name       region income code\n",
      "3       Narnia  Fantasyland   None   NA\n"
     ]
    }
   ],
   "source": [
    "# removed false country\n",
    "error_country_row = metadata[metadata['country_name'] == 'Narnia']\n",
    "print(error_country_row)"
   ]
  },
  {
   "cell_type": "code",
   "execution_count": 12,
   "id": "252cad15",
   "metadata": {},
   "outputs": [
    {
     "name": "stdout",
     "output_type": "stream",
     "text": [
      "  country_name    region        income code\n",
      "0        India      Asia  Lower middle   IN\n",
      "1       Canada  Americas          High   CA\n",
      "2      Germany    Europe          High   DE\n",
      "4       Brazil  Americas  Upper middle   BR\n"
     ]
    }
   ],
   "source": [
    "metadata.drop([3], axis=0, inplace=True)\n",
    "print(metadata)"
   ]
  },
  {
   "cell_type": "code",
   "execution_count": 26,
   "id": "1b75b7f0",
   "metadata": {},
   "outputs": [
    {
     "name": "stdout",
     "output_type": "stream",
     "text": [
      "250\n",
      "{'name': {'common': 'Moldova', 'official': 'Republic of Moldova', 'nativeName': {'ron': {'official': 'Republica Moldova', 'common': 'Moldova'}}}, 'cca2': 'MD', 'population': 2617820}\n"
     ]
    },
    {
     "data": {
      "text/html": [
       "<div>\n",
       "<style scoped>\n",
       "    .dataframe tbody tr th:only-of-type {\n",
       "        vertical-align: middle;\n",
       "    }\n",
       "\n",
       "    .dataframe tbody tr th {\n",
       "        vertical-align: top;\n",
       "    }\n",
       "\n",
       "    .dataframe thead th {\n",
       "        text-align: right;\n",
       "    }\n",
       "</style>\n",
       "<table border=\"1\" class=\"dataframe\">\n",
       "  <thead>\n",
       "    <tr style=\"text-align: right;\">\n",
       "      <th></th>\n",
       "      <th>code</th>\n",
       "      <th>population</th>\n",
       "      <th>country_name</th>\n",
       "    </tr>\n",
       "  </thead>\n",
       "  <tbody>\n",
       "    <tr>\n",
       "      <th>0</th>\n",
       "      <td>MD</td>\n",
       "      <td>2617820</td>\n",
       "      <td>Moldova</td>\n",
       "    </tr>\n",
       "    <tr>\n",
       "      <th>1</th>\n",
       "      <td>KM</td>\n",
       "      <td>869595</td>\n",
       "      <td>Comoros</td>\n",
       "    </tr>\n",
       "    <tr>\n",
       "      <th>2</th>\n",
       "      <td>MY</td>\n",
       "      <td>32365998</td>\n",
       "      <td>Malaysia</td>\n",
       "    </tr>\n",
       "    <tr>\n",
       "      <th>3</th>\n",
       "      <td>DZ</td>\n",
       "      <td>44700000</td>\n",
       "      <td>Algeria</td>\n",
       "    </tr>\n",
       "    <tr>\n",
       "      <th>4</th>\n",
       "      <td>NF</td>\n",
       "      <td>2302</td>\n",
       "      <td>Norfolk Island</td>\n",
       "    </tr>\n",
       "  </tbody>\n",
       "</table>\n",
       "</div>"
      ],
      "text/plain": [
       "  code  population    country_name\n",
       "0   MD     2617820         Moldova\n",
       "1   KM      869595         Comoros\n",
       "2   MY    32365998        Malaysia\n",
       "3   DZ    44700000         Algeria\n",
       "4   NF        2302  Norfolk Island"
      ]
     },
     "execution_count": 26,
     "metadata": {},
     "output_type": "execute_result"
    }
   ],
   "source": [
    "# fetching data from other source API: https://restcountries.com/v3.1/all?fields=name,population,cca2\n",
    "\n",
    "import requests\n",
    "import pandas as pd\n",
    "import pprint\n",
    "\n",
    "url = 'https://restcountries.com/v3.1/all?fields=name,population,cca2'\n",
    "response = requests.get(url)\n",
    "data = response.json()\n",
    "\n",
    "print(len(data))\n",
    "print(data[0])\n",
    "\n",
    "df = pd.json_normalize(data)\n",
    "\n",
    "df = df[['cca2','population','name.common']]\n",
    "df.columns = ['code','population','country_name']\n",
    "df.head()"
   ]
  },
  {
   "cell_type": "code",
   "execution_count": 36,
   "id": "301fa2a3",
   "metadata": {},
   "outputs": [
    {
     "name": "stdout",
     "output_type": "stream",
     "text": [
      "  code  population country_name_x country_name_y    region        income\n",
      "0   CA    38005238         Canada         Canada  Americas          High\n",
      "1   BR   212559409         Brazil         Brazil  Americas  Upper middle\n",
      "2   IN  1380004385          India          India      Asia  Lower middle\n",
      "3   DE    83240525        Germany        Germany    Europe          High\n"
     ]
    }
   ],
   "source": [
    "# merge to dataframe\n",
    "\n",
    "df_merged = pd.merge(df, metadata, on='code', how='inner')\n",
    "pprint.pprint(df_merged)"
   ]
  },
  {
   "cell_type": "code",
   "execution_count": 61,
   "id": "1900a190",
   "metadata": {},
   "outputs": [
    {
     "name": "stdout",
     "output_type": "stream",
     "text": [
      "Total population: 1713809557\n",
      "High Income Population: 121245763\n",
      "probability that a person is from high income: 0.07074634547623776\n",
      "         income    population\n",
      "0          High  6.062288e+07\n",
      "1  Lower middle  1.380004e+09\n",
      "2  Upper middle  2.125594e+08\n"
     ]
    }
   ],
   "source": [
    "# Analysis\n",
    "# World population from merged data\n",
    "world_pop = df_merged['population'].sum()\n",
    "print(f'Total population: {world_pop}')\n",
    "\n",
    "# Probability of being born in high-income countries\n",
    "high_income_pop = df_merged[df_merged['income']=='High']['population'].sum()\n",
    "print(f'High Income Population: {high_income_pop}')\n",
    "\n",
    "probability_high_income = high_income_pop / world_pop\n",
    "print(f'probability that a person is from high income: {probability_high_income}')\n",
    "\n",
    "# Average country population per income level\n",
    "avg_pop_per_income = df_merged.groupby('income')['population'].mean().reset_index()\n",
    "print(avg_pop_per_income)"
   ]
  },
  {
   "cell_type": "code",
   "execution_count": 63,
   "id": "de37c0d6",
   "metadata": {},
   "outputs": [
    {
     "data": {
      "image/png": "[encoded data removed]",
      "text/plain": [
       "<Figure size 800x500 with 1 Axes>"
      ]
     },
     "metadata": {},
     "output_type": "display_data"
    },
    {
     "data": {
      "image/png": "[encoded data removed]",
      "text/plain": [
       "<Figure size 640x480 with 1 Axes>"
      ]
     },
     "metadata": {},
     "output_type": "display_data"
    }
   ],
   "source": [
    "# Visualisation\n",
    "import matplotlib.pyplot as plt\n",
    "\n",
    "plt.figure(figsize=(8,5))\n",
    "plt.bar(avg_pop_per_income['income'],avg_pop_per_income['population'])\n",
    "plt.title(\"Average Population by Income Level\")\n",
    "plt.ylabel(\"Population\")\n",
    "plt.grid(axis='y', linestyle='--')\n",
    "plt.tight_layout()\n",
    "plt.show()\n",
    "\n",
    "# Pie chart: high income vs others\n",
    "labels = ['High Income', 'Others']\n",
    "sizes = [high_income_pop, world_pop]\n",
    "plt.pie(sizes, labels=labels, autopct='%1.1f%%', colors=['gold', 'lightgray'])\n",
    "plt.title(\"Share of Global Population: High Income vs Others\")\n",
    "plt.tight_layout()\n",
    "plt.show()"
   ]
  },
  {
   "cell_type": "markdown",
   "id": "1d11fdbc",
   "metadata": {},
   "source": [
    "Only 6.6% of the world’s population lives in high-income countries Canada and Germany, despite dominating global economics.\n",
    "\n",
    "Lower middle-income countries have higher average population per country, implying broader demographic pressures.\n",
    "\n",
    "Merging by code avoids messy name mismatches — a clean join tactic used daily in production data pipelines."
   ]
  }
 ],
 "metadata": {
  "kernelspec": {
   "display_name": "Python 3",
   "language": "python",
   "name": "python3"
  },
  "language_info": {
   "codemirror_mode": {
    "name": "ipython",
    "version": 3
   },
   "file_extension": ".py",
   "mimetype": "text/x-python",
   "name": "python",
   "nbconvert_exporter": "python",
   "pygments_lexer": "ipython3",
   "version": "3.13.5"
  }
 },
 "nbformat": 4,
 "nbformat_minor": 5
}
