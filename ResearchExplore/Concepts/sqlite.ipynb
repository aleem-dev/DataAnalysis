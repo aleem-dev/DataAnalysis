{
 "cells": [
  {
   "cell_type": "markdown",
   "id": "ff43ad37",
   "metadata": {},
   "source": [
    "# SQLite\n",
    "create a database, then create a table for the cat data, insert some cat records into it, read the data from the database, and close the database connection."
   ]
  },
  {
   "cell_type": "code",
   "execution_count": 2,
   "id": "30339a24",
   "metadata": {},
   "outputs": [
    {
     "name": "stdout",
     "output_type": "stream",
     "text": [
      "<class 'sqlite3.Connection'>\n",
      "status: None\n"
     ]
    }
   ],
   "source": [
    "import sqlite3 as sq\n",
    "\n",
    "#create/connect database\n",
    "conn = sq.connect('example.db',isolation_level=None) #creates a example.db file in local folder\n",
    "\n",
    "print(type(conn))\n",
    "status = conn.close()\n",
    "\n",
    "print(f\"status: {status}\")\n"
   ]
  },
  {
   "cell_type": "code",
   "execution_count": 56,
   "id": "1f069033",
   "metadata": {},
   "outputs": [
    {
     "data": {
      "text/plain": [
       "<sqlite3.Cursor at 0x240188db640>"
      ]
     },
     "execution_count": 56,
     "metadata": {},
     "output_type": "execute_result"
    }
   ],
   "source": [
    "#Create Table\n",
    "import sqlite3 as sq\n",
    "\n",
    "#create or connect database\n",
    "conn = sq.connect('example.db',isolation_level=None)\n",
    "\n",
    "#execute sql quary to create a table\n",
    "conn.execute('CREATE TABLE IF NOT EXISTS cats (name TEXT NOT NULL, birthdate TEXT, furr TEXT, weight_kg REAL) ')"
   ]
  },
  {
   "cell_type": "code",
   "execution_count": 57,
   "id": "e56ac80e",
   "metadata": {},
   "outputs": [
    {
     "name": "stdout",
     "output_type": "stream",
     "text": [
      "database quary: [('Zophie', '2021-01-24', 'black', 5.6), ('Zophie', '2021-01-24', 'black', 5.6), ('Zophie', '2021-01-24', 'black', 5.6)]\n",
      "3.49.1\n",
      "table info quary: [(0, 'name', 'TEXT', 1, None, 0), (1, 'birthdate', 'TEXT', 0, None, 0), (2, 'furr', 'TEXT', 0, None, 0), (3, 'weight_kg', 'REAL', 0, None, 0)]\n",
      "check tables in db using sqlite_schema table: \n",
      "[('cats',)]\n"
     ]
    }
   ],
   "source": [
    "#Quary table\n",
    "import sqlite3 as sq\n",
    "\n",
    "output = conn.execute('SELECT * FROM cats').fetchall()\n",
    "tableinfo = conn.execute('PRAGMA TABLE_INFO(cats)').fetchall()\n",
    "\n",
    "print(f\"database quary: {output}\")\n",
    "print(sq.sqlite_version)\n",
    "print(f\"table info quary: {tableinfo}\")\n",
    "\n",
    "buff = conn.execute('SELECT name FROM sqlite_schema WHERE type=\"table\"').fetchall()\n",
    "print(f\"check tables in db using sqlite_schema table: \\n{buff}\")\n",
    "\n",
    "# conn.execute('DROP TABLE CATS')"
   ]
  },
  {
   "cell_type": "code",
   "execution_count": 59,
   "id": "d1dfdb4b",
   "metadata": {},
   "outputs": [
    {
     "ename": "OperationalError",
     "evalue": "database is locked",
     "output_type": "error",
     "traceback": [
      "\u001b[31m---------------------------------------------------------------------------\u001b[39m",
      "\u001b[31mOperationalError\u001b[39m                          Traceback (most recent call last)",
      "\u001b[36mCell\u001b[39m\u001b[36m \u001b[39m\u001b[32mIn[59]\u001b[39m\u001b[32m, line 3\u001b[39m\n\u001b[32m      1\u001b[39m \u001b[38;5;66;03m#insert record\u001b[39;00m\n\u001b[32m      2\u001b[39m quary = \u001b[33m'\u001b[39m\u001b[33mINSERT INTO cats VALUES (\u001b[39m\u001b[33m\"\u001b[39m\u001b[33mZophie\u001b[39m\u001b[33m\"\u001b[39m\u001b[33m, \u001b[39m\u001b[33m\"\u001b[39m\u001b[33m2021-01-24\u001b[39m\u001b[33m\"\u001b[39m\u001b[33m, \u001b[39m\u001b[33m\"\u001b[39m\u001b[33mblack\u001b[39m\u001b[33m\"\u001b[39m\u001b[33m, 5.6)\u001b[39m\u001b[33m'\u001b[39m\n\u001b[32m----> \u001b[39m\u001b[32m3\u001b[39m \u001b[43mconn\u001b[49m\u001b[43m.\u001b[49m\u001b[43mexecute\u001b[49m\u001b[43m(\u001b[49m\u001b[43mquary\u001b[49m\u001b[43m)\u001b[49m\n",
      "\u001b[31mOperationalError\u001b[39m: database is locked"
     ]
    }
   ],
   "source": [
    "#insert record\n",
    "quary = 'INSERT INTO cats VALUES (\"Zophie\", \"2021-01-24\", \"black\", 5.6)'\n",
    "conn.execute(quary)"
   ]
  },
  {
   "cell_type": "code",
   "execution_count": 60,
   "id": "c1e43d14",
   "metadata": {},
   "outputs": [
    {
     "name": "stdout",
     "output_type": "stream",
     "text": [
      "buff:  [(1, 'Zophie', '2021-01-24', 'black', 5.6), (2, 'Zophie', '2021-01-24', 'black', 5.6), (3, 'Zophie', '2021-01-24', 'black', 5.6)]\n"
     ]
    }
   ],
   "source": [
    "#read record\n",
    "quary = 'SELECT rowid, * FROM cats ORDER BY furr'\n",
    "buff = conn.execute(quary).fetchall()\n",
    "print('buff: ',buff)\n"
   ]
  },
  {
   "cell_type": "code",
   "execution_count": 61,
   "id": "d6a7c6c9",
   "metadata": {},
   "outputs": [
    {
     "ename": "OperationalError",
     "evalue": "database is locked",
     "output_type": "error",
     "traceback": [
      "\u001b[31m---------------------------------------------------------------------------\u001b[39m",
      "\u001b[31mOperationalError\u001b[39m                          Traceback (most recent call last)",
      "\u001b[36mCell\u001b[39m\u001b[36m \u001b[39m\u001b[32mIn[61]\u001b[39m\u001b[32m, line 3\u001b[39m\n\u001b[32m      1\u001b[39m \u001b[38;5;66;03m# update record\u001b[39;00m\n\u001b[32m      2\u001b[39m quary = \u001b[33m'\u001b[39m\u001b[33mUPDATE cats SET furr = \u001b[39m\u001b[33m\"\u001b[39m\u001b[33mgray tabby\u001b[39m\u001b[33m\"\u001b[39m\u001b[33m where rowid=1\u001b[39m\u001b[33m'\u001b[39m\n\u001b[32m----> \u001b[39m\u001b[32m3\u001b[39m \u001b[43mconn\u001b[49m\u001b[43m.\u001b[49m\u001b[43mexecute\u001b[49m\u001b[43m(\u001b[49m\u001b[43mquary\u001b[49m\u001b[43m)\u001b[49m\n\u001b[32m      4\u001b[39m conn.execute(\u001b[33m'\u001b[39m\u001b[33mSELECT * FROM cats\u001b[39m\u001b[33m'\u001b[39m).fetchall()\n",
      "\u001b[31mOperationalError\u001b[39m: database is locked"
     ]
    }
   ],
   "source": [
    "# update record\n",
    "quary = 'UPDATE cats SET furr = \"gray tabby\" where rowid=1'\n",
    "conn.execute(quary)\n",
    "conn.execute('SELECT * FROM cats').fetchall()"
   ]
  },
  {
   "cell_type": "code",
   "execution_count": 24,
   "id": "9051babf",
   "metadata": {},
   "outputs": [
    {
     "data": {
      "text/plain": [
       "[]"
      ]
     },
     "execution_count": 24,
     "metadata": {},
     "output_type": "execute_result"
    }
   ],
   "source": [
    "# delete record\n",
    "quary = 'DELETE FROM cats WHERE rowid = 1'\n",
    "conn.execute(quary)\n",
    "conn.execute('SELECT * FROM cats').fetchall()"
   ]
  },
  {
   "cell_type": "code",
   "execution_count": 29,
   "id": "1a9cd5c7",
   "metadata": {},
   "outputs": [
    {
     "data": {
      "text/plain": [
       "[(1, 'Zophie', '2021-01-24', 'black', 5.6),\n",
       " (2, 'Zophie', '2021-01-24', 'black', 5.6),\n",
       " (3, 'Zophie', '2021-01-24', 'black', 5.6)]"
      ]
     },
     "execution_count": 29,
     "metadata": {},
     "output_type": "execute_result"
    }
   ],
   "source": [
    "#insert with ?, to prevent sql injection\n",
    "conn.execute('INSERT INTO cats VALUES (?,?,?,?)', [\"Zophie\", \"2021-01-24\", \"black\", 5.6])\n",
    "conn.execute('SELECT rowid, * FROM cats').fetchall()"
   ]
  },
  {
   "cell_type": "code",
   "execution_count": 1,
   "id": "a6c13a86",
   "metadata": {},
   "outputs": [
    {
     "name": "stdout",
     "output_type": "stream",
     "text": [
      "Records:  <sqlite3.Cursor object at 0x00000285D9A6E6C0>\n",
      "Row data [1]: ('Zophie', '2021-01-24', 'black', 5.6)\n",
      "Row data [2]: ('Miguel', '2016-12-24', 'siamese', 6.2)\n",
      "Row data [3]: ('Jacob', '2022-02-20', 'orange and white', 5.5)\n",
      "Row data [4]: ('Gumdrop', '2020-08-23', 'white', 6.4)\n",
      "Row data [5]: ('Hector', '2022-03-15', 'orange and white', 7.5)\n",
      "Row data [6]: ('Night', '2019-03-16', 'tuxedo', 6.5)\n",
      "Row data [7]: ('Trey', '2022-07-07', 'calico', 5.8)\n",
      "Row data [8]: ('Maverick', '2014-12-04', 'siamese', 5.6)\n",
      "Row data [9]: ('Powder', '2022-04-30', 'tortoiseshell', 5.0)\n",
      "Row data [10]: ('Rita', '2020-11-06', 'tortoiseshell', 6.0)\n"
     ]
    }
   ],
   "source": [
    "import sqlite3 as sq\n",
    "swcats_db = sq.connect('sweigartcats.db',isolation_level=None)\n",
    "records = swcats_db.execute('SELECT * FROM cats')\n",
    "print('Records: ',records)\n",
    "\n",
    "i = 1\n",
    "for row in records:\n",
    "    print(f'Row data [{i}]: {row}')\n",
    "    i+=1\n",
    "    if i == 11:\n",
    "        break"
   ]
  },
  {
   "cell_type": "markdown",
   "id": "ad6523f0",
   "metadata": {},
   "source": [
    "## Filter with Where"
   ]
  },
  {
   "cell_type": "code",
   "execution_count": 4,
   "id": "d71d521e",
   "metadata": {},
   "outputs": [
    {
     "name": "stdout",
     "output_type": "stream",
     "text": [
      "[('Zophie', '2021-01-24', 'black', 5.6),\n",
      " ('Toby', '2021-05-17', 'black', 6.8),\n",
      " ('Taffy', '2024-12-09', 'white', 7.0),\n",
      " ('Hollie', '2024-08-07', 'calico', 6.0),\n",
      " ('Lewis', '2024-03-19', 'orange tabby', 5.1),\n",
      " ('Thor', '2013-05-14', 'black', 5.2),\n",
      " ('Shell', '2024-06-16', 'tortoiseshell', 6.5),\n",
      " ('Jasmine', '2024-09-05', 'orange tabby', 6.3),\n",
      " ('Sassy', '2017-08-20', 'black', 7.5),\n",
      " ('Hope', '2016-05-22', 'black', 7.6)]\n"
     ]
    }
   ],
   "source": [
    "# filter with where\n",
    "swcats_db.execute('SELECT * FROM cats WHERE fur = \"black\"').fetchall()\n",
    "\n",
    "import pprint\n",
    "matching_cats = swcats_db.execute('SELECT * FROM cats WHERE fur = \"black\" or birthdate >=\"2024-01-01\"').fetchall()\n",
    "pprint.pprint(matching_cats)"
   ]
  },
  {
   "cell_type": "code",
   "execution_count": 5,
   "id": "3d84824e",
   "metadata": {},
   "outputs": [
    {
     "data": {
      "text/plain": [
       "[('Trey', '2022-07-07', 'calico', 5.8),\n",
       " ('Toby', '2021-05-17', 'black', 6.8),\n",
       " ('Molly', '2021-09-02', 'orange and white', 6.1),\n",
       " ('Dusty', '2015-10-20', 'white', 6.8),\n",
       " ('Mandy', '2023-05-18', 'hairless', 6.8),\n",
       " ('Taffy', '2024-12-09', 'white', 7.0),\n",
       " ('Rocky', '2015-02-18', 'orange and white', 6.5),\n",
       " ('Bobby', '2021-08-11', 'orange and white', 5.3),\n",
       " ('Misty', '2016-07-08', 'orange', 5.2),\n",
       " ('Mitsy', '2015-05-29', 'white', 5.0),\n",
       " ('Colby', '2014-10-31', 'calico', 5.8),\n",
       " ('Riley', '2021-07-24', 'orange tabby', 5.1),\n",
       " ('Ruby', '2023-12-22', 'bengal', 5.0),\n",
       " ('Daisy', '2019-03-19', 'white', 6.0),\n",
       " ('Crosby', '2018-06-02', 'black and white', 6.4),\n",
       " ('Harry', '2015-06-23', 'siamese', 5.0),\n",
       " ('Sassy', '2017-08-20', 'black', 7.5),\n",
       " ('Lily', '2014-04-01', 'tortoiseshell', 6.0),\n",
       " ('Spunky', '2015-09-04', 'gray', 5.9)]"
      ]
     },
     "execution_count": 5,
     "metadata": {},
     "output_type": "execute_result"
    }
   ],
   "source": [
    "swcats_db.execute('SELECT * FROM cats where name LIKE \"%y\"').fetchall()"
   ]
  },
  {
   "cell_type": "code",
   "execution_count": 45,
   "id": "18c78935",
   "metadata": {},
   "outputs": [
    {
     "data": {
      "text/plain": [
       "[('Jacob', '2022-02-20', 'orange and white', 5.5),\n",
       " ('Java', '2019-12-19', 'tortoiseshell', 5.4),\n",
       " ('Jasmine', '2024-09-05', 'orange tabby', 6.3),\n",
       " ('Jamison', '2015-09-07', 'tortoiseshell', 7.4)]"
      ]
     },
     "execution_count": 45,
     "metadata": {},
     "output_type": "execute_result"
    }
   ],
   "source": [
    "swcats_db.execute('SELECT * FROM cats WHERE name LIKE \"Ja%\"').fetchall()"
   ]
  },
  {
   "cell_type": "code",
   "execution_count": 46,
   "id": "ebe1e36f",
   "metadata": {},
   "outputs": [
    {
     "data": {
      "text/plain": [
       "[('Jacob', '2022-02-20', 'orange and white', 5.5),\n",
       " ('Toby', '2021-05-17', 'black', 6.8),\n",
       " ('Bobby', '2021-08-11', 'orange and white', 5.3)]"
      ]
     },
     "execution_count": 46,
     "metadata": {},
     "output_type": "execute_result"
    }
   ],
   "source": [
    "swcats_db.execute('SELECT * FROM cats WHERE name LIKE \"%ob%\"').fetchall()"
   ]
  },
  {
   "cell_type": "code",
   "execution_count": null,
   "id": "896aad48",
   "metadata": {},
   "outputs": [
    {
     "data": {
      "text/plain": [
       "[('Gumdrop', '2020-08-23', 'white', 6.4),\n",
       " ('Thomas', '2023-03-09', 'gray', 7.8),\n",
       " ('Sam', '2014-02-22', 'tortoiseshell', 6.3),\n",
       " ('Cinnamon', '2013-03-07', 'calico', 5.2),\n",
       " ('Jasmine', '2024-09-05', 'orange tabby', 6.3),\n",
       " ('Samantha', '2014-01-11', 'orange and white', 6.3),\n",
       " ('Jamison', '2015-09-07', 'tortoiseshell', 7.4)]"
      ]
     },
     "execution_count": 48,
     "metadata": {},
     "output_type": "execute_result"
    }
   ],
   "source": [
    "# case sensetive search with GLOB *text*\n",
    "# While name LIKE \"%m%\" matches either a lowercase or uppercase m, name GLOB \"*m*\" matches only the lowercase m.\n",
    "swcats_db.execute('SELECT * FROM cats WHERE name GLOB \"*m*\"').fetchall()"
   ]
  },
  {
   "cell_type": "markdown",
   "id": "8536655f",
   "metadata": {},
   "source": [
    "## Order ORDER BY\n",
    "ORDER BY must come after WHERE, if you are using WHERE to filter"
   ]
  },
  {
   "cell_type": "code",
   "execution_count": 65,
   "id": "57547b7f",
   "metadata": {},
   "outputs": [
    {
     "name": "stdout",
     "output_type": "stream",
     "text": [
      "[('Iris', '2017-07-13', 'bengal', 6.8),\n",
      " ('Ruby', '2023-12-22', 'bengal', 5.0),\n",
      " ('Elton', '2020-05-28', 'bengal', 5.4),\n",
      " ('Zophie', '2021-01-24', 'black', 5.6),\n",
      " ('Toby', '2021-05-17', 'black', 6.8),\n",
      " ('Thor', '2013-05-14', 'black', 5.2),\n",
      " ('Sassy', '2017-08-20', 'black', 7.5),\n",
      " ('Hope', '2016-05-22', 'black', 7.6),\n",
      " ('Vincent', '2015-02-08', 'black and white', 7.2),\n",
      " ('Chance', '2020-07-26', 'black and white', 6.3)]\n"
     ]
    }
   ],
   "source": [
    "buff = swcats_db.execute('SELECT * FROM cats ORDER BY fur LIMIT 10').fetchall()\n",
    "pprint.pprint(buff)"
   ]
  },
  {
   "cell_type": "code",
   "execution_count": 66,
   "id": "18265878",
   "metadata": {},
   "outputs": [
    {
     "data": {
      "text/plain": [
       "[('Iris', '2017-07-13', 'bengal', 6.8),\n",
       " ('Elton', '2020-05-28', 'bengal', 5.4),\n",
       " ('Ruby', '2023-12-22', 'bengal', 5.0),\n",
       " ('Thor', '2013-05-14', 'black', 5.2),\n",
       " ('Hope', '2016-05-22', 'black', 7.6),\n",
       " ('Sassy', '2017-08-20', 'black', 7.5),\n",
       " ('Zophie', '2021-01-24', 'black', 5.6),\n",
       " ('Toby', '2021-05-17', 'black', 6.8),\n",
       " ('Vincent', '2015-02-08', 'black and white', 7.2),\n",
       " ('Crosby', '2018-06-02', 'black and white', 6.4)]"
      ]
     },
     "execution_count": 66,
     "metadata": {},
     "output_type": "execute_result"
    }
   ],
   "source": [
    "# multiple orders\n",
    "# order by fur and birthdate\n",
    "swcats_db.execute('SELECT * FROM cats ORDER BY fur, birthdate LIMIT 10').fetchall()"
   ]
  },
  {
   "cell_type": "code",
   "execution_count": 67,
   "id": "efd08806",
   "metadata": {},
   "outputs": [
    {
     "data": {
      "text/plain": [
       "[('Ruby', '2023-12-22', 'bengal', 5.0),\n",
       " ('Elton', '2020-05-28', 'bengal', 5.4),\n",
       " ('Iris', '2017-07-13', 'bengal', 6.8),\n",
       " ('Toby', '2021-05-17', 'black', 6.8),\n",
       " ('Zophie', '2021-01-24', 'black', 5.6),\n",
       " ('Sassy', '2017-08-20', 'black', 7.5),\n",
       " ('Hope', '2016-05-22', 'black', 7.6),\n",
       " ('Thor', '2013-05-14', 'black', 5.2),\n",
       " ('Tiger', '2021-09-12', 'black and white', 5.4),\n",
       " ('Luke', '2021-02-07', 'black and white', 5.0)]"
      ]
     },
     "execution_count": 67,
     "metadata": {},
     "output_type": "execute_result"
    }
   ],
   "source": [
    "swcats_db.execute(\"SELECT * FROM cats ORDER BY fur, birthdate DESC LIMIT 10\").fetchall()"
   ]
  },
  {
   "cell_type": "code",
   "execution_count": 3,
   "id": "92535511",
   "metadata": {},
   "outputs": [
    {
     "data": {
      "text/plain": [
       "[('idx_name',), ('idx_birthdate',)]"
      ]
     },
     "execution_count": 3,
     "metadata": {},
     "output_type": "execute_result"
    }
   ],
   "source": [
    "# Index it help to run select quary faster.  So when you have a database or table used for more of read quary you may choose to index that column.  Note index will reduce performance of INSERT, UPDATE and DELETE\n",
    "\n",
    "#create two indexes\n",
    "# swcats_db.execute('CREATE INDEX idx_name ON cats (name)')\n",
    "# swcats_db.execute('CREATE INDEX idx_birthdate ON cats (name)')\n",
    "\n",
    "#check if the index are there?\n",
    "# swcats_db.execute('SELECT name FROM sqlite_schema WHERE type=\"index\" AND tbl_name=\"cats\"').fetchall()\n",
    "\n",
    "# drop index name\n",
    "# swcats_db.execute('DROP INDEX idx_name')\n",
    "swcats_db.execute('SELECT name FROM sqlite_schema WHERE type=\"index\" AND tbl_name=\"cats\"').fetchall()\n",
    "\n",
    "# swcats_db.close()\n",
    "\n"
   ]
  },
  {
   "cell_type": "code",
   "execution_count": 6,
   "id": "6033f484",
   "metadata": {},
   "outputs": [],
   "source": [
    "# Update data\n",
    "swcats_db.execute('UPDATE cats SET fur = \"gray tabby\" WHERE rowid = 1')\n",
    "swcats_db.execute('SELECT * FROM cats WHERE rowid = 1').fetchall()\n",
    "swcats_db.close()"
   ]
  },
  {
   "cell_type": "code",
   "execution_count": null,
   "id": "1d79ded5",
   "metadata": {},
   "outputs": [
    {
     "name": "stdout",
     "output_type": "stream",
     "text": [
      "[('Miguel', '2016-12-24', 'siamese', 6.2),\n",
      " ('Jacob', '2022-02-20', 'orange and white', 5.5),\n",
      " ('Gumdrop', '2020-08-23', 'white', 6.4),\n",
      " ('Hector', '2022-03-15', 'orange and white', 7.5),\n",
      " ('Night', '2019-03-16', 'tuxedo', 6.5)]\n"
     ]
    }
   ],
   "source": [
    "# Delete from table\n",
    "import sqlite3 as sq\n",
    "import pprint\n",
    "# swcats_db.close()\n",
    "swcats_db = sq.connect('sweigartcats.db',isolation_level=None)\n",
    "swcats_db.execute('DELETE FROM cats WHERE rowid = 1')\n",
    "pprint.pprint(swcats_db.execute('SELECT * FROM cats LIMIT 5').fetchall())\n",
    "swcats_db.close()"
   ]
  },
  {
   "cell_type": "code",
   "execution_count": null,
   "id": "a376d759",
   "metadata": {},
   "outputs": [
    {
     "name": "stdout",
     "output_type": "stream",
     "text": [
      "[]\n"
     ]
    }
   ],
   "source": [
    "# Transaction\n",
    "swcats_db = sq.connect('sweigartcats.db',isolation_level=None)\n",
    "swcats_db.execute('BEGIN')\n",
    "swcats_db.execute('INSERT INTO cats VALUES (\"Socks\", \"2022-04-04\", \"white\", 4.2)')\n",
    "swcats_db.rollback()\n",
    "# swcats_db.commit()\n",
    "pprint.pprint(swcats_db.execute('SELECT * FROM cats WHERE name=\"Socks\"').fetchall())\n",
    "swcats_db.close()"
   ]
  },
  {
   "cell_type": "code",
   "execution_count": null,
   "id": "328dbdeb",
   "metadata": {},
   "outputs": [],
   "source": [
    "# Back up data base\n",
    "bkp_swcats_db = sq.connect('bkp_swcats.db',isolation_level=None)\n",
    "swcats_db = sq.connect('sweigartcats.db',isolation_level=None)\n",
    "swcats_db.backup(bkp_swcats_db)\n",
    "swcats_db.close()"
   ]
  },
  {
   "cell_type": "code",
   "execution_count": 10,
   "id": "d9721a43",
   "metadata": {},
   "outputs": [
    {
     "name": "stdout",
     "output_type": "stream",
     "text": [
      "[('Miguel', '2016-12-24', 'siamese', 6.2),\n",
      " ('Jacob', '2022-02-20', 'orange and white', 5.5),\n",
      " ('Gumdrop', '2020-08-23', 'white', 6.4),\n",
      " ('Hector', '2022-03-15', 'orange and white', 7.5),\n",
      " ('Night', '2019-03-16', 'tuxedo', 6.5)]\n"
     ]
    }
   ],
   "source": [
    "pprint.pprint(bkp_swcats_db.execute('SELECT * FROM cats LIMIT 5').fetchall())"
   ]
  },
  {
   "cell_type": "code",
   "execution_count": null,
   "id": "03f511c3",
   "metadata": {},
   "outputs": [
    {
     "name": "stdout",
     "output_type": "stream",
     "text": [
      "[('felines',)]\n",
      "(2, 'description', 'TEXT', 0, None, 0)\n",
      "[('Miguel', '2016-12-24', 'siamese', 6.2, 1),\n",
      " ('Jacob', '2022-02-20', 'orange and white', 5.5, 1),\n",
      " ('Gumdrop', '2020-08-23', 'white', 6.4, 1)]\n",
      "[(0, 'name', 'TEXT', 1, None, 0),\n",
      " (1, 'birthdate', 'TEXT', 0, None, 0),\n",
      " (2, 'description', 'TEXT', 0, None, 0),\n",
      " (3, 'weight_kg', 'REAL', 0, None, 0)]\n"
     ]
    }
   ],
   "source": [
    "# Alter Rename table\n",
    "swcats_db = sq.connect('sweigartcats.db',isolation_level=None)\n",
    "# swcats_db.execute('ALTER TABLE cats RENAME TO felines')\n",
    "pprint.pprint(swcats_db.execute('SELECT name FROM sqlite_schema WHERE type=\"table\"').fetchall())\n",
    "\n",
    "# rename column\n",
    "# swcats_db.execute('ALTER TABLE felines RENAME COLUMN fur TO description')\n",
    "pprint.pprint(swcats_db.execute('PRAGMA TABLE_INFO(felines)').fetchall()[2]) #list 3rd column\n",
    "# swcats_db.execute('ALTER TABLE felines ADD COLUMN is_loved INTEGER DEFAULT 1')\n",
    "pprint.pprint(swcats_db.execute('SELECT * FROM felines LIMIT 3').fetchall())\n",
    "# swcats_db.execute('ALTER TABLE felines DROP COLUMN is_loved')\n",
    "pprint.pprint(swcats_db.execute('PRAGMA TABLE_INFO(felines)').fetchall())\n",
    "\n",
    "swcats_db.close()\n"
   ]
  },
  {
   "cell_type": "code",
   "execution_count": 30,
   "id": "38286472",
   "metadata": {},
   "outputs": [
    {
     "name": "stdout",
     "output_type": "stream",
     "text": [
      "[('cats',)]\n"
     ]
    }
   ],
   "source": [
    "# Rename back to cats\n",
    "swcats_db = sq.connect('sweigartcats.db',isolation_level=None)\n",
    "# swcats_db.execute('ALTER TABLE felines RENAME TO cats')\n",
    "pprint.pprint(swcats_db.execute('SELECT name FROM sqlite_schema WHERE type=\"table\"').fetchall())\n",
    "swcats_db.close()"
   ]
  },
  {
   "cell_type": "code",
   "execution_count": 33,
   "id": "ba1f0ac7",
   "metadata": {},
   "outputs": [
    {
     "name": "stdout",
     "output_type": "stream",
     "text": [
      "[('cats',), ('vaccinations',)]\n"
     ]
    }
   ],
   "source": [
    "# JOIN tables and Foreign key\n",
    "swcats_db = sq.connect('sweigartcats.db',isolation_level=None)\n",
    "swcats_db.execute('PRAGMA foreign_key=ON')\n",
    "swcats_db.execute('CREATE TABLE IF NOT EXISTS vaccinations (vaccine TEXT,date_administered TEXT, administered_by TEXT, cat_id INTEGER,FOREIGN KEY(cat_id) REFERENCES cats(rowid))')\n",
    "pprint.pprint(swcats_db.execute('SELECT name FROM sqlite_schema WHERE type=\"table\"').fetchall())\n",
    "\n",
    "swcats_db.close()\n"
   ]
  },
  {
   "cell_type": "code",
   "execution_count": null,
   "id": "6ec9580a",
   "metadata": {},
   "outputs": [],
   "source": [
    "#insert few records in vaccinations table\n",
    "swcats_db = sq.connect('sweigartcats.db',isolation_level=None)\n",
    "swcats_db.execute('INSERT INTO vaccinations VALUES (\"rabies\", \"2023-06-06\", \"Dr. Echo\", 1)')\n",
    "swcats_db.execute('INSERT INTO vaccinations VALUES (\"FeLV\", \"2023-06-06\", \"Dr. Echo\", 1)')\n",
    "swcats_db.execute('INSERT INTO vaccinations VALUES (\"rabies\", \"2023-07-11\", \"Dr. Echo\", 23)')\n",
    "swcats_db.close()\n"
   ]
  },
  {
   "cell_type": "code",
   "execution_count": null,
   "id": "a7d343f5",
   "metadata": {},
   "outputs": [],
   "source": [
    "# quary cats got vaccination records\n",
    "swcats_db = sq.connect('sweigartcats.db',isolation_level=None)\n",
    "\n",
    "# pprint.pprint(swcats_db.execute('SELECT * FROM CATS INNER JOIN vaccinations ON cats.rowid = vaccinations.cat_id').fetchall())\n",
    "swcats_db.execute('SELECT * FROM cats INNER JOIN vaccinations ON cats.rowid = vaccinations.cat_id').fetchall()\n",
    "swcats_db.close() # toggle this line to comment to see the output\n"
   ]
  },
  {
   "cell_type": "code",
   "execution_count": null,
   "id": "5dbde545",
   "metadata": {},
   "outputs": [
    {
     "ename": "OperationalError",
     "evalue": "foreign key mismatch - \"vaccinations\" referencing \"cats\"",
     "output_type": "error",
     "traceback": [
      "\u001b[31m---------------------------------------------------------------------------\u001b[39m",
      "\u001b[31mOperationalError\u001b[39m                          Traceback (most recent call last)",
      "\u001b[36mCell\u001b[39m\u001b[36m \u001b[39m\u001b[32mIn[45]\u001b[39m\u001b[32m, line 6\u001b[39m\n\u001b[32m      4\u001b[39m swcats_db.execute(\u001b[33m'\u001b[39m\u001b[33mPRAGMA foreign_key=OFF\u001b[39m\u001b[33m'\u001b[39m)\n\u001b[32m      5\u001b[39m \u001b[38;5;28;01mwith\u001b[39;00m \u001b[38;5;28mopen\u001b[39m(\u001b[33m'\u001b[39m\u001b[33msw_db_dump.txt\u001b[39m\u001b[33m'\u001b[39m,\u001b[33m'\u001b[39m\u001b[33mw\u001b[39m\u001b[33m'\u001b[39m,encoding=\u001b[33m'\u001b[39m\u001b[33mutf-8\u001b[39m\u001b[33m'\u001b[39m) \u001b[38;5;28;01mas\u001b[39;00m fileObj:\n\u001b[32m----> \u001b[39m\u001b[32m6\u001b[39m \u001b[43m    \u001b[49m\u001b[38;5;28;43;01mfor\u001b[39;49;00m\u001b[43m \u001b[49m\u001b[43mrow\u001b[49m\u001b[43m \u001b[49m\u001b[38;5;129;43;01min\u001b[39;49;00m\u001b[43m \u001b[49m\u001b[43mswcats_db\u001b[49m\u001b[43m.\u001b[49m\u001b[43miterdump\u001b[49m\u001b[43m(\u001b[49m\u001b[43m)\u001b[49m\u001b[43m:\u001b[49m\n\u001b[32m      7\u001b[39m \u001b[43m        \u001b[49m\u001b[43mfileObj\u001b[49m\u001b[43m.\u001b[49m\u001b[43mwrite\u001b[49m\u001b[43m(\u001b[49m\u001b[43mrow\u001b[49m\u001b[43m \u001b[49m\u001b[43m+\u001b[49m\u001b[43m \u001b[49m\u001b[33;43m'\u001b[39;49m\u001b[38;5;130;43;01m\\n\u001b[39;49;00m\u001b[33;43m'\u001b[39;49m\u001b[43m)\u001b[49m\n\u001b[32m      8\u001b[39m swcats_db.close() \u001b[38;5;66;03m# toggle this line to comment to see the output\u001b[39;00m\n",
      "\u001b[36mFile \u001b[39m\u001b[32mc:\\Users\\shaik\\AppData\\Local\\Programs\\Python\\Python313\\Lib\\sqlite3\\dump.py:31\u001b[39m, in \u001b[36m_iterdump\u001b[39m\u001b[34m(connection, filter)\u001b[39m\n\u001b[32m     29\u001b[39m cu.row_factory = \u001b[38;5;28;01mNone\u001b[39;00m  \u001b[38;5;66;03m# Make sure we get predictable results.\u001b[39;00m\n\u001b[32m     30\u001b[39m \u001b[38;5;66;03m# Disable foreign key constraints, if there is any foreign key violation.\u001b[39;00m\n\u001b[32m---> \u001b[39m\u001b[32m31\u001b[39m violations = \u001b[43mcu\u001b[49m\u001b[43m.\u001b[49m\u001b[43mexecute\u001b[49m\u001b[43m(\u001b[49m\u001b[33;43m\"\u001b[39;49m\u001b[33;43mPRAGMA foreign_key_check\u001b[39;49m\u001b[33;43m\"\u001b[39;49m\u001b[43m)\u001b[49m.fetchall()\n\u001b[32m     32\u001b[39m \u001b[38;5;28;01mif\u001b[39;00m violations:\n\u001b[32m     33\u001b[39m     \u001b[38;5;28;01myield\u001b[39;00m(\u001b[33m'\u001b[39m\u001b[33mPRAGMA foreign_keys=OFF;\u001b[39m\u001b[33m'\u001b[39m)\n",
      "\u001b[31mOperationalError\u001b[39m: foreign key mismatch - \"vaccinations\" referencing \"cats\""
     ]
    }
   ],
   "source": [
    "# create a copy of database\n",
    "swcats_db.close() # toggle this line to comment to see the output\n",
    "swcats_db = sq.connect('sweigartcats.db',isolation_level=None)\n",
    "swcats_db.execute('PRAGMA foreign_key=ON')\n",
    "\n",
    "with open('sw_db_dump.txt','w',encoding='utf-8') as fileObj:\n",
    "    for row in swcats_db.iterdump():\n",
    "        fileObj.write(row + '\\n')\n",
    "swcats_db.close() # toggle this line to comment to see the output\n"
   ]
  },
  {
   "cell_type": "code",
   "execution_count": null,
   "id": "f63d3a7a",
   "metadata": {},
   "outputs": [
    {
     "name": "stdout",
     "output_type": "stream",
     "text": [
      "table cats:\n",
      "Column 0 → name: name, type: TEXT, notnull: True\n",
      "Column 1 → name: birthdate, type: TEXT, notnull: False\n",
      "Column 2 → name: description, type: TEXT, notnull: False\n",
      "Column 3 → name: weight_kg, type: REAL, notnull: False\n",
      "table vaccinations\n",
      "Column 0 → name: vaccine, type: TEXT, notnull: False\n",
      "Column 1 → name: date_administered, type: TEXT, notnull: False\n",
      "Column 2 → name: administered_by, type: TEXT, notnull: False\n",
      "Column 3 → name: cat_id, type: INTEGER, notnull: False\n"
     ]
    }
   ],
   "source": [
    "# since the we used rowid as foreign key for the vaccination table we need to run a little fix\n",
    "# rename the cats tabel to old_cats\n",
    "# create new cats table with primary key column\n",
    "# copy data from old_cats to new cat\n",
    "# rename the vaccinations table to old_vaccinations table\n",
    "# create a new vaccinations table with proper foreign key\n",
    "# copy data from old_vaccination table\n",
    "# varify data in both the tables\n",
    "# drop the data\n",
    "import sqlite3\n",
    "swcats_db.close() # toggle this line to comment to see the output\n",
    "swcats_db = sqlite3.connect('sweigartcats.db', isolation_level=None)\n",
    "headers = swcats_db.execute(\"PRAGMA table_info(cats)\").fetchall()\n",
    "print('table cats:')\n",
    "for col in headers:\n",
    "    print(f\"Column {col[0]} → name: {col[1]}, type: {col[2]}, notnull: {bool(col[3])}\")\n",
    "print('table vaccinations')\n",
    "headers = swcats_db.execute(\"PRAGMA table_info(vaccinations)\").fetchall()\n",
    "for col in headers:\n",
    "    print(f\"Column {col[0]} → name: {col[1]}, type: {col[2]}, notnull: {bool(col[3])}\")\n",
    "swcats_db.close() # toggle this line to comment to see the output"
   ]
  }
 ],
 "metadata": {
  "kernelspec": {
   "display_name": "Python 3",
   "language": "python",
   "name": "python3"
  },
  "language_info": {
   "codemirror_mode": {
    "name": "ipython",
    "version": 3
   },
   "file_extension": ".py",
   "mimetype": "text/x-python",
   "name": "python",
   "nbconvert_exporter": "python",
   "pygments_lexer": "ipython3",
   "version": "3.13.5"
  }
 },
 "nbformat": 4,
 "nbformat_minor": 5
}
