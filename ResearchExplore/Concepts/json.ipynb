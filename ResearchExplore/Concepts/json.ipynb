{
 "cells": [
  {
   "cell_type": "markdown",
   "id": "498fe357",
   "metadata": {},
   "source": [
    "# JSON"
   ]
  },
  {
   "cell_type": "code",
   "execution_count": 3,
   "id": "e44967a6",
   "metadata": {},
   "outputs": [
    {
     "data": {
      "text/plain": [
       "{'name': 'Alice Doe',\n",
       " 'age': 30,\n",
       " 'car': None,\n",
       " 'programmer': True,\n",
       " 'address': {'street': '100 Larkin St.',\n",
       "  'city': 'San Francisco',\n",
       "  'zip': '94102'},\n",
       " 'phone': [{'type': 'mobile', 'number': '415-555-7890'},\n",
       "  {'type': 'work', 'number': '415-555-1234'}]}"
      ]
     },
     "execution_count": 3,
     "metadata": {},
     "output_type": "execute_result"
    }
   ],
   "source": [
    "import json\n",
    "json_string = '''{\"name\": \"Alice Doe\", \"age\": 30, \"car\": null, \"programmer\":\n",
    " true, \"address\": {\"street\": \"100 Larkin St.\", \"city\": \"San Francisco\", \"zip\":\n",
    " \"94102\"}, \"phone\": [{\"type\": \"mobile\", \"number\": \"415-555-7890\"}, {\"type\": \n",
    "\"work\", \"number\": \"415-555-1234\"}]}'''\n",
    "python_data = json.loads(json_string)\n",
    "python_data"
   ]
  },
  {
   "cell_type": "code",
   "execution_count": 4,
   "id": "e57f1bad",
   "metadata": {},
   "outputs": [
    {
     "name": "stdout",
     "output_type": "stream",
     "text": [
      "{'name': 'Alice Doe', 'age': 30, 'car': None, 'programmer': True, 'address': {'street': '100 Larkin St.', 'city': 'San Francisco', 'zip': '94102'}, 'phone': [{'type': 'mobile', 'number': '415-555-7890'}, {'type': 'work', 'number': '415-555-1234'}]}\n"
     ]
    }
   ],
   "source": [
    "print(python_data)"
   ]
  },
  {
   "cell_type": "code",
   "execution_count": 6,
   "id": "05955a43",
   "metadata": {},
   "outputs": [
    {
     "name": "stdout",
     "output_type": "stream",
     "text": [
      "Alice Doe\n"
     ]
    }
   ],
   "source": [
    "print(python_data['name'])"
   ]
  },
  {
   "cell_type": "code",
   "execution_count": 11,
   "id": "ff6668b2",
   "metadata": {},
   "outputs": [
    {
     "name": "stdout",
     "output_type": "stream",
     "text": [
      "415-555-7890\n"
     ]
    }
   ],
   "source": [
    "print(python_data['phone'][0]['number'])"
   ]
  },
  {
   "cell_type": "code",
   "execution_count": 10,
   "id": "2b7d56c5",
   "metadata": {},
   "outputs": [
    {
     "ename": "TypeError",
     "evalue": "dict.keys() takes no arguments (1 given)",
     "output_type": "error",
     "traceback": [
      "\u001b[31m---------------------------------------------------------------------------\u001b[39m",
      "\u001b[31mTypeError\u001b[39m                                 Traceback (most recent call last)",
      "\u001b[36mCell\u001b[39m\u001b[36m \u001b[39m\u001b[32mIn[10]\u001b[39m\u001b[32m, line 1\u001b[39m\n\u001b[32m----> \u001b[39m\u001b[32m1\u001b[39m \u001b[38;5;28mprint\u001b[39m(\u001b[43mpython_data\u001b[49m\u001b[43m.\u001b[49m\u001b[43mkeys\u001b[49m\u001b[43m(\u001b[49m\u001b[43m[\u001b[49m\u001b[33;43m'\u001b[39;49m\u001b[33;43mname\u001b[39;49m\u001b[33;43m'\u001b[39;49m\u001b[43m]\u001b[49m\u001b[43m)\u001b[49m)\n",
      "\u001b[31mTypeError\u001b[39m: dict.keys() takes no arguments (1 given)"
     ]
    }
   ],
   "source": [
    "print(python_data.keys(['name']))"
   ]
  }
 ],
 "metadata": {
  "kernelspec": {
   "display_name": "Python 3",
   "language": "python",
   "name": "python3"
  },
  "language_info": {
   "codemirror_mode": {
    "name": "ipython",
    "version": 3
   },
   "file_extension": ".py",
   "mimetype": "text/x-python",
   "name": "python",
   "nbconvert_exporter": "python",
   "pygments_lexer": "ipython3",
   "version": "3.13.5"
  }
 },
 "nbformat": 4,
 "nbformat_minor": 5
}
