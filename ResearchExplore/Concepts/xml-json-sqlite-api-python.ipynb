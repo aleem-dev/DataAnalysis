{
 "cells": [
  {
   "cell_type": "markdown",
   "id": "9c8d0248",
   "metadata": {},
   "source": [
    " make api call, get response in xml and json, put it in sqlite db, retrive the records as per user request.\n",
    "\n",
    " End-to-End Flow: API → pandas → SQLite → SQL → pandas → visualization"
   ]
  },
  {
   "cell_type": "code",
   "execution_count": 16,
   "id": "4c91d399",
   "metadata": {},
   "outputs": [
    {
     "name": "stdout",
     "output_type": "stream",
     "text": [
      "250\n",
      "{'name': {'common': 'Azerbaijan', 'official': 'Republic of Azerbaijan', 'nativeName': {'aze': {'official': 'Azərbaycan Respublikası', 'common': 'Azərbaycan'}}}, 'population': 10110116}\n"
     ]
    }
   ],
   "source": [
    "# Fetch and normalize data API -> Pandas\n",
    "import requests\n",
    "import pandas as pd\n",
    "\n",
    "#Fetch data\n",
    "url = \"https://restcountries.com/v3.1/all?fields=name,population\"\n",
    "response = requests.get(url)\n",
    "data = response.json()\n",
    "print(len(data))\n",
    "print(data[0])\n",
    "\n"
   ]
  },
  {
   "cell_type": "code",
   "execution_count": 17,
   "id": "14fc8207",
   "metadata": {},
   "outputs": [
    {
     "name": "stdout",
     "output_type": "stream",
     "text": [
      "country name: Azerbaijan - population: 10110116\n"
     ]
    }
   ],
   "source": [
    "print(f'country name: {data[0]['name']['common']} - population: {data[0]['population']}')\n"
   ]
  },
  {
   "cell_type": "code",
   "execution_count": 47,
   "id": "609d2294",
   "metadata": {},
   "outputs": [
    {
     "data": {
      "text/html": [
       "<div>\n",
       "<style scoped>\n",
       "    .dataframe tbody tr th:only-of-type {\n",
       "        vertical-align: middle;\n",
       "    }\n",
       "\n",
       "    .dataframe tbody tr th {\n",
       "        vertical-align: top;\n",
       "    }\n",
       "\n",
       "    .dataframe thead th {\n",
       "        text-align: right;\n",
       "    }\n",
       "</style>\n",
       "<table border=\"1\" class=\"dataframe\">\n",
       "  <thead>\n",
       "    <tr style=\"text-align: right;\">\n",
       "      <th></th>\n",
       "      <th>population</th>\n",
       "      <th>name.common</th>\n",
       "      <th>name.official</th>\n",
       "      <th>name.nativeName.aze.official</th>\n",
       "      <th>name.nativeName.aze.common</th>\n",
       "      <th>name.nativeName.eng.official</th>\n",
       "      <th>name.nativeName.eng.common</th>\n",
       "      <th>name.nativeName.fra.official</th>\n",
       "      <th>name.nativeName.fra.common</th>\n",
       "      <th>name.nativeName.bjz.official</th>\n",
       "      <th>...</th>\n",
       "      <th>name.nativeName.arc.official</th>\n",
       "      <th>name.nativeName.arc.common</th>\n",
       "      <th>name.nativeName.ckb.official</th>\n",
       "      <th>name.nativeName.ckb.common</th>\n",
       "      <th>name.nativeName.nno.official</th>\n",
       "      <th>name.nativeName.nno.common</th>\n",
       "      <th>name.nativeName.nob.official</th>\n",
       "      <th>name.nativeName.nob.common</th>\n",
       "      <th>name.nativeName.smi.official</th>\n",
       "      <th>name.nativeName.smi.common</th>\n",
       "    </tr>\n",
       "  </thead>\n",
       "  <tbody>\n",
       "    <tr>\n",
       "      <th>0</th>\n",
       "      <td>10110116</td>\n",
       "      <td>Azerbaijan</td>\n",
       "      <td>Republic of Azerbaijan</td>\n",
       "      <td>Azərbaycan Respublikası</td>\n",
       "      <td>Azərbaycan</td>\n",
       "      <td>NaN</td>\n",
       "      <td>NaN</td>\n",
       "      <td>NaN</td>\n",
       "      <td>NaN</td>\n",
       "      <td>NaN</td>\n",
       "      <td>...</td>\n",
       "      <td>NaN</td>\n",
       "      <td>NaN</td>\n",
       "      <td>NaN</td>\n",
       "      <td>NaN</td>\n",
       "      <td>NaN</td>\n",
       "      <td>NaN</td>\n",
       "      <td>NaN</td>\n",
       "      <td>NaN</td>\n",
       "      <td>NaN</td>\n",
       "      <td>NaN</td>\n",
       "    </tr>\n",
       "    <tr>\n",
       "      <th>1</th>\n",
       "      <td>38005238</td>\n",
       "      <td>Canada</td>\n",
       "      <td>Canada</td>\n",
       "      <td>NaN</td>\n",
       "      <td>NaN</td>\n",
       "      <td>Canada</td>\n",
       "      <td>Canada</td>\n",
       "      <td>Canada</td>\n",
       "      <td>Canada</td>\n",
       "      <td>NaN</td>\n",
       "      <td>...</td>\n",
       "      <td>NaN</td>\n",
       "      <td>NaN</td>\n",
       "      <td>NaN</td>\n",
       "      <td>NaN</td>\n",
       "      <td>NaN</td>\n",
       "      <td>NaN</td>\n",
       "      <td>NaN</td>\n",
       "      <td>NaN</td>\n",
       "      <td>NaN</td>\n",
       "      <td>NaN</td>\n",
       "    </tr>\n",
       "    <tr>\n",
       "      <th>2</th>\n",
       "      <td>397621</td>\n",
       "      <td>Belize</td>\n",
       "      <td>Belize</td>\n",
       "      <td>NaN</td>\n",
       "      <td>NaN</td>\n",
       "      <td>Belize</td>\n",
       "      <td>Belize</td>\n",
       "      <td>NaN</td>\n",
       "      <td>NaN</td>\n",
       "      <td>Belize</td>\n",
       "      <td>...</td>\n",
       "      <td>NaN</td>\n",
       "      <td>NaN</td>\n",
       "      <td>NaN</td>\n",
       "      <td>NaN</td>\n",
       "      <td>NaN</td>\n",
       "      <td>NaN</td>\n",
       "      <td>NaN</td>\n",
       "      <td>NaN</td>\n",
       "      <td>NaN</td>\n",
       "      <td>NaN</td>\n",
       "    </tr>\n",
       "    <tr>\n",
       "      <th>3</th>\n",
       "      <td>83240525</td>\n",
       "      <td>Germany</td>\n",
       "      <td>Federal Republic of Germany</td>\n",
       "      <td>NaN</td>\n",
       "      <td>NaN</td>\n",
       "      <td>NaN</td>\n",
       "      <td>NaN</td>\n",
       "      <td>NaN</td>\n",
       "      <td>NaN</td>\n",
       "      <td>NaN</td>\n",
       "      <td>...</td>\n",
       "      <td>NaN</td>\n",
       "      <td>NaN</td>\n",
       "      <td>NaN</td>\n",
       "      <td>NaN</td>\n",
       "      <td>NaN</td>\n",
       "      <td>NaN</td>\n",
       "      <td>NaN</td>\n",
       "      <td>NaN</td>\n",
       "      <td>NaN</td>\n",
       "      <td>NaN</td>\n",
       "    </tr>\n",
       "    <tr>\n",
       "      <th>4</th>\n",
       "      <td>51780579</td>\n",
       "      <td>South Korea</td>\n",
       "      <td>Republic of Korea</td>\n",
       "      <td>NaN</td>\n",
       "      <td>NaN</td>\n",
       "      <td>NaN</td>\n",
       "      <td>NaN</td>\n",
       "      <td>NaN</td>\n",
       "      <td>NaN</td>\n",
       "      <td>NaN</td>\n",
       "      <td>...</td>\n",
       "      <td>NaN</td>\n",
       "      <td>NaN</td>\n",
       "      <td>NaN</td>\n",
       "      <td>NaN</td>\n",
       "      <td>NaN</td>\n",
       "      <td>NaN</td>\n",
       "      <td>NaN</td>\n",
       "      <td>NaN</td>\n",
       "      <td>NaN</td>\n",
       "      <td>NaN</td>\n",
       "    </tr>\n",
       "  </tbody>\n",
       "</table>\n",
       "<p>5 rows × 309 columns</p>\n",
       "</div>"
      ],
      "text/plain": [
       "   population  name.common                name.official  \\\n",
       "0    10110116   Azerbaijan       Republic of Azerbaijan   \n",
       "1    38005238       Canada                       Canada   \n",
       "2      397621       Belize                       Belize   \n",
       "3    83240525      Germany  Federal Republic of Germany   \n",
       "4    51780579  South Korea            Republic of Korea   \n",
       "\n",
       "  name.nativeName.aze.official name.nativeName.aze.common  \\\n",
       "0      Azərbaycan Respublikası                 Azərbaycan   \n",
       "1                          NaN                        NaN   \n",
       "2                          NaN                        NaN   \n",
       "3                          NaN                        NaN   \n",
       "4                          NaN                        NaN   \n",
       "\n",
       "  name.nativeName.eng.official name.nativeName.eng.common  \\\n",
       "0                          NaN                        NaN   \n",
       "1                       Canada                     Canada   \n",
       "2                       Belize                     Belize   \n",
       "3                          NaN                        NaN   \n",
       "4                          NaN                        NaN   \n",
       "\n",
       "  name.nativeName.fra.official name.nativeName.fra.common  \\\n",
       "0                          NaN                        NaN   \n",
       "1                       Canada                     Canada   \n",
       "2                          NaN                        NaN   \n",
       "3                          NaN                        NaN   \n",
       "4                          NaN                        NaN   \n",
       "\n",
       "  name.nativeName.bjz.official  ... name.nativeName.arc.official  \\\n",
       "0                          NaN  ...                          NaN   \n",
       "1                          NaN  ...                          NaN   \n",
       "2                       Belize  ...                          NaN   \n",
       "3                          NaN  ...                          NaN   \n",
       "4                          NaN  ...                          NaN   \n",
       "\n",
       "  name.nativeName.arc.common name.nativeName.ckb.official  \\\n",
       "0                        NaN                          NaN   \n",
       "1                        NaN                          NaN   \n",
       "2                        NaN                          NaN   \n",
       "3                        NaN                          NaN   \n",
       "4                        NaN                          NaN   \n",
       "\n",
       "  name.nativeName.ckb.common name.nativeName.nno.official  \\\n",
       "0                        NaN                          NaN   \n",
       "1                        NaN                          NaN   \n",
       "2                        NaN                          NaN   \n",
       "3                        NaN                          NaN   \n",
       "4                        NaN                          NaN   \n",
       "\n",
       "  name.nativeName.nno.common name.nativeName.nob.official  \\\n",
       "0                        NaN                          NaN   \n",
       "1                        NaN                          NaN   \n",
       "2                        NaN                          NaN   \n",
       "3                        NaN                          NaN   \n",
       "4                        NaN                          NaN   \n",
       "\n",
       "  name.nativeName.nob.common name.nativeName.smi.official  \\\n",
       "0                        NaN                          NaN   \n",
       "1                        NaN                          NaN   \n",
       "2                        NaN                          NaN   \n",
       "3                        NaN                          NaN   \n",
       "4                        NaN                          NaN   \n",
       "\n",
       "  name.nativeName.smi.common  \n",
       "0                        NaN  \n",
       "1                        NaN  \n",
       "2                        NaN  \n",
       "3                        NaN  \n",
       "4                        NaN  \n",
       "\n",
       "[5 rows x 309 columns]"
      ]
     },
     "execution_count": 47,
     "metadata": {},
     "output_type": "execute_result"
    }
   ],
   "source": [
    "df = pd.json_normalize(data)\n",
    "df.head()"
   ]
  },
  {
   "cell_type": "code",
   "execution_count": 48,
   "id": "a6fa2030",
   "metadata": {},
   "outputs": [],
   "source": [
    "df = df[['population','name.common']]\n",
    "df = df.rename(columns={\"name.common\":\"country\"})"
   ]
  },
  {
   "cell_type": "code",
   "execution_count": null,
   "id": "7de19ce4",
   "metadata": {},
   "outputs": [
    {
     "name": "stdout",
     "output_type": "stream",
     "text": [
      "<sqlite3.Cursor object at 0x00000220E204FDC0>\n"
     ]
    }
   ],
   "source": [
    "# Pandas to SQL\n",
    "import sqlite3\n",
    "import pprint\n",
    "\n",
    "conn = sqlite3.connect(\"rootIndia.db\",isolation_level=None)\n",
    "df.to_sql(\"countries\",conn,if_exists='replace',index=False)\n"
   ]
  },
  {
   "cell_type": "code",
   "execution_count": 52,
   "id": "c2e091e3",
   "metadata": {},
   "outputs": [
    {
     "name": "stdout",
     "output_type": "stream",
     "text": [
      "[('countries',)]\n",
      "[(0, 'population', 'INTEGER', 0, None, 0), (1, 'country', 'TEXT', 0, None, 0)]\n"
     ]
    }
   ],
   "source": [
    "pprint.pprint(conn.execute('SELECT name FROM sqlite_schema WHERE type=\"table\"').fetchall())\n",
    "pprint.pprint(conn.execute('PRAGMA TABLE_INFO(\"countries\")').fetchall())"
   ]
  },
  {
   "cell_type": "code",
   "execution_count": 85,
   "id": "7dfc7f9f",
   "metadata": {},
   "outputs": [
    {
     "data": {
      "text/html": [
       "<div>\n",
       "<style scoped>\n",
       "    .dataframe tbody tr th:only-of-type {\n",
       "        vertical-align: middle;\n",
       "    }\n",
       "\n",
       "    .dataframe tbody tr th {\n",
       "        vertical-align: top;\n",
       "    }\n",
       "\n",
       "    .dataframe thead th {\n",
       "        text-align: right;\n",
       "    }\n",
       "</style>\n",
       "<table border=\"1\" class=\"dataframe\">\n",
       "  <thead>\n",
       "    <tr style=\"text-align: right;\">\n",
       "      <th></th>\n",
       "      <th>population</th>\n",
       "      <th>country</th>\n",
       "    </tr>\n",
       "  </thead>\n",
       "  <tbody>\n",
       "    <tr>\n",
       "      <th>0</th>\n",
       "      <td>10110116</td>\n",
       "      <td>Azerbaijan</td>\n",
       "    </tr>\n",
       "    <tr>\n",
       "      <th>1</th>\n",
       "      <td>38005238</td>\n",
       "      <td>Canada</td>\n",
       "    </tr>\n",
       "    <tr>\n",
       "      <th>2</th>\n",
       "      <td>397621</td>\n",
       "      <td>Belize</td>\n",
       "    </tr>\n",
       "    <tr>\n",
       "      <th>3</th>\n",
       "      <td>83240525</td>\n",
       "      <td>Germany</td>\n",
       "    </tr>\n",
       "    <tr>\n",
       "      <th>4</th>\n",
       "      <td>51780579</td>\n",
       "      <td>South Korea</td>\n",
       "    </tr>\n",
       "  </tbody>\n",
       "</table>\n",
       "</div>"
      ],
      "text/plain": [
       "   population      country\n",
       "0    10110116   Azerbaijan\n",
       "1    38005238       Canada\n",
       "2      397621       Belize\n",
       "3    83240525      Germany\n",
       "4    51780579  South Korea"
      ]
     },
     "execution_count": 85,
     "metadata": {},
     "output_type": "execute_result"
    }
   ],
   "source": [
    "# SQL to Pandas\n",
    "quary = 'SELECT population, country FROM countries'\n",
    "df_sql = pd.read_sql_query(quary,conn)\n",
    "df_sql.head()"
   ]
  },
  {
   "cell_type": "code",
   "execution_count": 101,
   "id": "522e9f1f",
   "metadata": {},
   "outputs": [
    {
     "name": "stdout",
     "output_type": "stream",
     "text": [
      "Total Population: 7777721563\n"
     ]
    }
   ],
   "source": [
    "# Pandas Math\n",
    "total_population = df_sql['population'].sum()\n",
    "print(f\"Total Population: {total_population}\")"
   ]
  },
  {
   "cell_type": "code",
   "execution_count": 104,
   "id": "4dfc8e2f",
   "metadata": {},
   "outputs": [
    {
     "name": "stdout",
     "output_type": "stream",
     "text": [
      "India Population 1380004385\n"
     ]
    }
   ],
   "source": [
    "india_population = df_sql[df_sql['country']=='India']['population'].values[0]\n",
    "print('India Population',india_population)\n"
   ]
  },
  {
   "cell_type": "code",
   "execution_count": 95,
   "id": "b856b330",
   "metadata": {},
   "outputs": [
    {
     "name": "stdout",
     "output_type": "stream",
     "text": [
      "Probaility of India:  7.5190634487015355\n",
      "India vs avarage population:  44.357604403226695\n"
     ]
    }
   ],
   "source": [
    "#math probability\n",
    "probability_india = india_population / total_population\n",
    "average_population = df_sql['population'].mean()\n",
    "india_vs_avarage = india_population / average_population\n",
    "print('Probaility of India: ', probability_india)\n",
    "print('India vs avarage population: ',india_vs_avarage)"
   ]
  },
  {
   "cell_type": "code",
   "execution_count": 106,
   "id": "fea7fe08",
   "metadata": {},
   "outputs": [
    {
     "data": {
      "image/png": "[encoded data removed]",
      "text/plain": [
       "<Figure size 640x480 with 1 Axes>"
      ]
     },
     "metadata": {},
     "output_type": "display_data"
    },
    {
     "name": "stdout",
     "output_type": "stream",
     "text": [
      "🌍 Total World Population: 7777721563\n",
      "🇮🇳 India's Population: 1380004385\n",
      "🧮 Probability of being born in India: 7.5191\n",
      "📊 Average Country Population: 31110886\n",
      "📏 India vs Average: 44.36 times larger\n"
     ]
    }
   ],
   "source": [
    "# visualisation\n",
    "import matplotlib.pyplot as plt\n",
    "\n",
    "rest_of_world = total_population - india_population\n",
    "\n",
    "labels = ['India', 'Rest of World']\n",
    "sizes = [india_population, rest_of_world]\n",
    "\n",
    "plt.pie(sizes, labels=labels, autopct='%1.1f%%')\n",
    "plt.title(\"India's Share of Global Population\")\n",
    "plt.show()\n",
    "\n",
    "print(\"🌍 Total World Population:\", total_population)\n",
    "print(\"🇮🇳 India's Population:\", india_population)\n",
    "print(\"🧮 Probability of being born in India:\", round(probability_india, 4))\n",
    "print(\"📊 Average Country Population:\", round(average_population))\n",
    "print(\"📏 India vs Average:\", round(india_vs_avarage, 2), \"times larger\")"
   ]
  }
 ],
 "metadata": {
  "kernelspec": {
   "display_name": "Python 3",
   "language": "python",
   "name": "python3"
  },
  "language_info": {
   "codemirror_mode": {
    "name": "ipython",
    "version": 3
   },
   "file_extension": ".py",
   "mimetype": "text/x-python",
   "name": "python",
   "nbconvert_exporter": "python",
   "pygments_lexer": "ipython3",
   "version": "3.13.5"
  }
 },
 "nbformat": 4,
 "nbformat_minor": 5
}
