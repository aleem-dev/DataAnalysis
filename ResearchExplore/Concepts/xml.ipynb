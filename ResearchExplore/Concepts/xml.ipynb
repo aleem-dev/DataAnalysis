{
 "cells": [
  {
   "cell_type": "markdown",
   "id": "f55a782a",
   "metadata": {},
   "source": [
    "# XML"
   ]
  },
  {
   "cell_type": "code",
   "execution_count": 2,
   "id": "16bef969",
   "metadata": {},
   "outputs": [
    {
     "name": "stdout",
     "output_type": "stream",
     "text": [
      "<Element 'person' at 0x00000210A3A5CEF0>\n"
     ]
    }
   ],
   "source": [
    "import xml.etree.ElementTree as ET\n",
    "xml_string = \"\"\"<person><name>Alice Doe</name><age>30</age>\n",
    "<programmer>true</programmer><car xsi:nil=\"true\" xmlns:xsi= \"http://www.w3.org/2001/XMLSchema-instance\" />\n",
    "<address><street>\n",
    "100 Larkin St.</street><city>San Francisco</city><zip>94102</zip>\n",
    "</address><phone><phoneEntry><type>mobile</type><number>415-555-\n",
    "7890</number></phoneEntry><phoneEntry><type>work</type><number>\n",
    "415-555-1234</number></phoneEntry></phone></person>\"\"\"\n",
    "root = ET.fromstring(xml_string)\n",
    "print(root)"
   ]
  },
  {
   "cell_type": "code",
   "execution_count": 3,
   "id": "ac0c189a",
   "metadata": {},
   "outputs": [
    {
     "name": "stdout",
     "output_type": "stream",
     "text": [
      "<Element 'name' at 0x00000210A3A5D170>\n"
     ]
    }
   ],
   "source": [
    "print(root[0])"
   ]
  },
  {
   "cell_type": "code",
   "execution_count": 4,
   "id": "51bf93f7",
   "metadata": {},
   "outputs": [
    {
     "name": "stdout",
     "output_type": "stream",
     "text": [
      "6\n"
     ]
    }
   ],
   "source": [
    "print(len(root))"
   ]
  },
  {
   "cell_type": "code",
   "execution_count": 5,
   "id": "d65e17c8",
   "metadata": {},
   "outputs": [
    {
     "name": "stdout",
     "output_type": "stream",
     "text": [
      "<Element 'name' at 0x00000210A3A5D170>\n",
      "<Element 'age' at 0x00000210A3A5D260>\n",
      "<Element 'programmer' at 0x00000210A3A5D2B0>\n",
      "<Element 'car' at 0x00000210A3A5D3A0>\n",
      "<Element 'address' at 0x00000210A3A5D3F0>\n",
      "<Element 'phone' at 0x00000210A3A5D530>\n"
     ]
    }
   ],
   "source": [
    "for i in range (6):\n",
    "    print(root[i])"
   ]
  },
  {
   "cell_type": "code",
   "execution_count": 8,
   "id": "714ba86c",
   "metadata": {},
   "outputs": [
    {
     "name": "stdout",
     "output_type": "stream",
     "text": [
      "<Element 'phoneEntry' at 0x00000210A3A5D580>\n"
     ]
    }
   ],
   "source": [
    "print(root[5][0])"
   ]
  }
 ],
 "metadata": {
  "kernelspec": {
   "display_name": "Python 3",
   "language": "python",
   "name": "python3"
  },
  "language_info": {
   "codemirror_mode": {
    "name": "ipython",
    "version": 3
   },
   "file_extension": ".py",
   "mimetype": "text/x-python",
   "name": "python",
   "nbconvert_exporter": "python",
   "pygments_lexer": "ipython3",
   "version": "3.13.5"
  }
 },
 "nbformat": 4,
 "nbformat_minor": 5
}
