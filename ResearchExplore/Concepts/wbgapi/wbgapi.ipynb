{
 "cells": [
  {
   "cell_type": "markdown",
   "id": "e7107216",
   "metadata": {},
   "source": [
    "Use the World Bank API to:\n",
    "\n",
    "Fetch population data by country\n",
    "\n",
    "Store and query it via SQLite\n",
    "\n",
    "Calculate probability of being born in a specific country or region\n",
    "\n",
    "Visualize insights"
   ]
  },
  {
   "cell_type": "code",
   "execution_count": 34,
   "id": "d17a361d",
   "metadata": {},
   "outputs": [
    {
     "name": "stdout",
     "output_type": "stream",
     "text": [
      "            country_name  population\n",
      "0               Zimbabwe  16069056.0\n",
      "1                 Zambia  20152938.0\n",
      "2            Yemen, Rep.  38222876.0\n",
      "3     West Bank and Gaza   5043612.0\n",
      "4  Virgin Islands (U.S.)    105413.0\n"
     ]
    }
   ],
   "source": [
    "import wbgapi as wb\n",
    "import pandas as pd\n",
    "import pprint\n",
    "\n",
    "# Fetch population data for all countries (most recent value)\n",
    "df = wb.data.DataFrame('SP.POP.TOTL',time=2022,labels=True,).reset_index()\n",
    "\n",
    "df = df[['Country','SP.POP.TOTL']]\n",
    "df.columns = ['country_name','population']\n",
    "pprint.pprint(df.head())\n"
   ]
  },
  {
   "cell_type": "code",
   "execution_count": 35,
   "id": "150979a8",
   "metadata": {},
   "outputs": [
    {
     "name": "stdout",
     "output_type": "stream",
     "text": [
      "[('Zimbabwe', 16069056.0),\n",
      " ('Zambia', 20152938.0),\n",
      " ('Yemen, Rep.', 38222876.0),\n",
      " ('West Bank and Gaza', 5043612.0),\n",
      " ('Virgin Islands (U.S.)', 105413.0)]\n",
      "[(0, 'country_name', 'TEXT', 0, None, 0), (1, 'population', 'REAL', 0, None, 0)]\n"
     ]
    }
   ],
   "source": [
    "import sqlite3\n",
    "\n",
    "conn = sqlite3.connect(\"wb_population.db\")\n",
    "df.to_sql(\"countries\", conn, if_exists=\"replace\", index=False)\n",
    "pprint.pprint(conn.execute('SELECT * FROM countries LIMIT 5').fetchall())\n",
    "pprint.pprint(conn.execute('PRAGMA TABLE_INFO(\"countries\")').fetchall())"
   ]
  },
  {
   "cell_type": "code",
   "execution_count": 36,
   "id": "3072da6e",
   "metadata": {},
   "outputs": [
    {
     "name": "stdout",
     "output_type": "stream",
     "text": [
      "total population: 86158208225.0\n",
      "Canada population: 38935934.0\n",
      "World average population: 325125314.0566038\n",
      "Canada_vs_average: 0.11975669785349694\n"
     ]
    }
   ],
   "source": [
    "query = \"SELECT country_name, population FROM countries\"\n",
    "df_sql = pd.read_sql_query(query, conn)\n",
    "\n",
    "total_population = df_sql['population'].sum()\n",
    "print(f'total population: {total_population}')\n",
    "canada_population = df_sql[df_sql['country_name'] == 'Canada']['population'].values[0]\n",
    "print(f'Canada population: {canada_population}')\n",
    "\n",
    "probability_canada = canada_population / total_population\n",
    "average_population = df_sql['population'].mean()\n",
    "canada_vs_average = canada_population / average_population\n",
    "print(f'World average population: {average_population}')\n",
    "print(f\"Canada_vs_average: {canada_vs_average}\")\n"
   ]
  },
  {
   "cell_type": "code",
   "execution_count": 37,
   "id": "727b81ba",
   "metadata": {},
   "outputs": [
    {
     "data": {
      "image/png": "[encoded data removed]",
      "text/plain": [
       "<Figure size 640x480 with 1 Axes>"
      ]
     },
     "metadata": {},
     "output_type": "display_data"
    },
    {
     "name": "stdout",
     "output_type": "stream",
     "text": [
      "🌍 Total World Population: 86158208225.0\n",
      "🇨🇦 Canada's Population: 38935934.0\n",
      "🧮 Probability of being born in Canada: 0.0005\n",
      "📊 Average Country Population: 325125314\n",
      "📏 Canada vs Average: 0.12 times larger\n"
     ]
    }
   ],
   "source": [
    "import matplotlib.pyplot as plt\n",
    "\n",
    "rest_of_world = total_population - canada_population\n",
    "labels = ['Canada', 'Rest of World']\n",
    "sizes = [canada_population, rest_of_world]\n",
    "\n",
    "plt.pie(sizes, labels=labels, autopct='%1.1f%%')\n",
    "plt.title(\"Canada's Share of Global Population\")\n",
    "plt.show()\n",
    "print(\"🌍 Total World Population:\", total_population)\n",
    "print(\"🇨🇦 Canada's Population:\", canada_population)\n",
    "print(\"🧮 Probability of being born in Canada:\", round(probability_canada, 4))\n",
    "print(\"📊 Average Country Population:\", round(average_population))\n",
    "print(\"📏 Canada vs Average:\", round(canada_vs_average, 2), \"times larger\")\n"
   ]
  }
 ],
 "metadata": {
  "kernelspec": {
   "display_name": "Python 3",
   "language": "python",
   "name": "python3"
  },
  "language_info": {
   "codemirror_mode": {
    "name": "ipython",
    "version": 3
   },
   "file_extension": ".py",
   "mimetype": "text/x-python",
   "name": "python",
   "nbconvert_exporter": "python",
   "pygments_lexer": "ipython3",
   "version": "3.13.5"
  }
 },
 "nbformat": 4,
 "nbformat_minor": 5
}
