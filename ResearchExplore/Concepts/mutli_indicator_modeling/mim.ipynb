{
 "cells": [
  {
   "cell_type": "markdown",
   "id": "6d3c148d",
   "metadata": {},
   "source": [
    "# Mutli indicator modeling\n",
    "Flow: World Bank API → pandas → SQLite → SQL → pandas → scoring logic → visualization\n",
    "\n",
    "Objective\n",
    "Blend multiple indicators (e.g. population, literacy, income level) into a composite \n",
    "\n",
    "score to:\n",
    "- Rank countries or regions\n",
    "- Identify top and bottom performers\n",
    "- Support decisions for funding, policy, or infrastructure\n",
    "\n",
    "Indicators We’ll Use\n",
    "- population:         SP.POP.TOTL\n",
    "- Litracy Rate:       SE.ADT.LITR.ZS\n",
    "- Income Category:    manual data\n"
   ]
  },
  {
   "cell_type": "code",
   "execution_count": 45,
   "id": "cd1d7ea6",
   "metadata": {},
   "outputs": [
    {
     "name": "stdout",
     "output_type": "stream",
     "text": [
      "  code  year   population\n",
      "0  IND  1960  435990338.0\n",
      "1  NGA  1960   45053782.0\n",
      "2  IND  1961  446564729.0\n",
      "3  NGA  1961   45989310.0\n",
      "4  IND  1962  457283090.0\n"
     ]
    }
   ],
   "source": [
    "import wbgapi as wb\n",
    "import pandas as pd\n",
    "\n",
    "countries = ['IND', 'NGA']\n",
    "years = range(1960, 2025)\n",
    "\n",
    "# Population data\n",
    "df_pop = wb.data.DataFrame('SP.POP.TOTL', economy=countries, time=years).reset_index()\n",
    "\n",
    "# df_pop = df_pop[['economy', 'Time', 'SP.POP.TOTL']]\n",
    "# df_pop.columns = ['code', 'year', 'population']\n",
    "df_pop_long = pd.melt(\n",
    "    df_pop,\n",
    "    id_vars='economy',           # Keep country code\n",
    "    var_name='year',             # Create 'year' column from YR columns\n",
    "    value_name='population'      # Create 'population' column from values\n",
    ")\n",
    "df_pop_long['year'] = df_pop_long['year'].str.replace('YR', '').astype(int)\n",
    "df_pop_long.rename(columns={'economy': 'code'}, inplace=True)\n",
    "\n",
    "print(df_pop_long.head())"
   ]
  },
  {
   "cell_type": "code",
   "execution_count": 50,
   "id": "88544058",
   "metadata": {},
   "outputs": [
    {
     "name": "stdout",
     "output_type": "stream",
     "text": [
      "    code  year  literacy_rate\n",
      "0    IND  1960            NaN\n",
      "1    NGA  1960            NaN\n",
      "2    IND  1961            NaN\n",
      "3    NGA  1961            NaN\n",
      "4    IND  1962            NaN\n",
      "..   ...   ...            ...\n",
      "125  NGA  2022            NaN\n",
      "126  IND  2023           77.0\n",
      "127  NGA  2023            NaN\n",
      "128  IND  2024            NaN\n",
      "129  NGA  2024            NaN\n",
      "\n",
      "[130 rows x 3 columns]\n"
     ]
    }
   ],
   "source": [
    "# fetch litracy rate\n",
    "# Literacy data (may be wide-format)\n",
    "df_lit_raw = wb.data.DataFrame('SE.ADT.LITR.ZS', countries, time=years).reset_index()\n",
    "\n",
    "# Melt and clean\n",
    "df_lit = df_lit_raw.melt(id_vars='economy', var_name='year', value_name='literacy_rate')\n",
    "df_lit['year'] = df_lit['year'].str.replace('YR', '').astype(int)\n",
    "df_lit.columns = ['code', 'year', 'literacy_rate']\n",
    "print(df_lit)\n"
   ]
  },
  {
   "cell_type": "code",
   "execution_count": 51,
   "id": "900e56d3",
   "metadata": {},
   "outputs": [
    {
     "name": "stdout",
     "output_type": "stream",
     "text": [
      "    code  year  literacy_rate\n",
      "0    IND  1960      62.142857\n",
      "1    NGA  1960      59.210079\n",
      "2    IND  1961      62.142857\n",
      "3    NGA  1961      59.210079\n",
      "4    IND  1962      62.142857\n",
      "..   ...   ...            ...\n",
      "125  NGA  2022      59.210079\n",
      "126  IND  2023      77.000000\n",
      "127  NGA  2023      59.210079\n",
      "128  IND  2024      62.142857\n",
      "129  NGA  2024      59.210079\n",
      "\n",
      "[130 rows x 3 columns]\n"
     ]
    }
   ],
   "source": [
    "#Fix NaN values\n",
    "# Fill NaNs with country-wise literacy average\n",
    "df_lit['literacy_rate'] = df_lit.groupby('code')['literacy_rate'].transform(\n",
    "    lambda x: x.fillna(x.mean())\n",
    ")\n",
    "print(df_lit)"
   ]
  },
  {
   "cell_type": "code",
   "execution_count": 55,
   "id": "977bb950",
   "metadata": {},
   "outputs": [
    {
     "name": "stdout",
     "output_type": "stream",
     "text": [
      "  code  year   population  literacy_rate\n",
      "0  IND  1960  435990338.0      62.142857\n",
      "1  NGA  1960   45053782.0      59.210079\n",
      "2  IND  1961  446564729.0      62.142857\n",
      "3  NGA  1961   45989310.0      59.210079\n",
      "4  IND  1962  457283090.0      62.142857\n",
      "  code  year   population  literacy_rate        income\n",
      "0  IND  1960  435990338.0      62.142857  Lower middle\n",
      "1  NGA  1960   45053782.0      59.210079  Lower middle\n",
      "2  IND  1961  446564729.0      62.142857  Lower middle\n",
      "3  NGA  1961   45989310.0      59.210079  Lower middle\n",
      "4  IND  1962  457283090.0      62.142857  Lower middle\n"
     ]
    }
   ],
   "source": [
    "# add 3rd data parameter and merge\n",
    "income_meta = pd.DataFrame([\n",
    "    {'code': 'IND', 'income': 'Lower middle'},\n",
    "    {'code': 'NGA', 'income': 'Lower middle'}\n",
    "])\n",
    "\n",
    "# Merge everything\n",
    "df_merged_temp = pd.merge(df_pop_long, df_lit, on=['code', 'year'])\n",
    "print(df_merged_temp.head())\n",
    "df_merged = pd.merge(df_merged_temp, income_meta, on='code')\n",
    "print(df_merged.head())"
   ]
  },
  {
   "cell_type": "code",
   "execution_count": 57,
   "id": "4859398a",
   "metadata": {},
   "outputs": [
    {
     "name": "stdout",
     "output_type": "stream",
     "text": [
      "  code  year   population  literacy_rate        income  income_score  \\\n",
      "0  IND  1960  435990338.0      62.142857  Lower middle             2   \n",
      "1  NGA  1960   45053782.0      59.210079  Lower middle             2   \n",
      "2  IND  1961  446564729.0      62.142857  Lower middle             2   \n",
      "3  NGA  1961   45989310.0      59.210079  Lower middle             2   \n",
      "4  IND  1962  457283090.0      62.142857  Lower middle             2   \n",
      "\n",
      "   norm_pop     score  \n",
      "0  1.000000  0.660714  \n",
      "1  0.103337  0.466718  \n",
      "2  1.000000  0.660714  \n",
      "3  0.102985  0.466647  \n",
      "4  1.000000  0.660714  \n"
     ]
    }
   ],
   "source": [
    "# create score\n",
    "income_map = {\"Low\": 1, \"Lower middle\": 2, \"Upper middle\": 3, \"High\": 4}\n",
    "df_merged['income_score'] = df_merged['income'].map(income_map)\n",
    "\n",
    "# Normalize population per year\n",
    "df_merged['norm_pop'] = df_merged.groupby('year')['population'].transform(\n",
    "    lambda x: x / x.max()\n",
    ")\n",
    "\n",
    "# Score formula\n",
    "df_merged['score'] = (\n",
    "    0.5 * (df_merged['literacy_rate'] / 100) +\n",
    "    0.3 * (df_merged['income_score'] / 4) +\n",
    "    0.2 * df_merged['norm_pop']\n",
    ")\n",
    "print(df_merged.head())"
   ]
  },
  {
   "cell_type": "code",
   "execution_count": 58,
   "id": "128798cf",
   "metadata": {},
   "outputs": [
    {
     "data": {
      "image/png": "[encoded data removed]",
      "text/plain": [
       "<Figure size 800x500 with 1 Axes>"
      ]
     },
     "metadata": {},
     "output_type": "display_data"
    }
   ],
   "source": [
    "import matplotlib.pyplot as plt\n",
    "\n",
    "plt.figure(figsize=(8,5))\n",
    "for country in df_merged['code'].unique():\n",
    "    sub = df_merged[df_merged['code'] == country]\n",
    "    plt.plot(sub['year'], sub['score'], label=country)\n",
    "\n",
    "plt.title(\"Composite Score (Literacy + Income + Population) | 1960–2024\")\n",
    "plt.xlabel(\"Year\")\n",
    "plt.ylabel(\"Score\")\n",
    "plt.grid(True)\n",
    "plt.legend()\n",
    "plt.tight_layout()\n",
    "plt.show()\n"
   ]
  },
  {
   "cell_type": "markdown",
   "id": "179b8898",
   "metadata": {},
   "source": [
    "India shows consistent improvement post-2000, tied to rising literacy.\n",
    "\n",
    "Nigeria’s composite score jumps in literacy-driven periods, especially 2015–2024.\n",
    "\n",
    "Both countries demonstrate a growing education-investment payoff across decades."
   ]
  }
 ],
 "metadata": {
  "kernelspec": {
   "display_name": "Python 3",
   "language": "python",
   "name": "python3"
  },
  "language_info": {
   "codemirror_mode": {
    "name": "ipython",
    "version": 3
   },
   "file_extension": ".py",
   "mimetype": "text/x-python",
   "name": "python",
   "nbconvert_exporter": "python",
   "pygments_lexer": "ipython3",
   "version": "3.13.5"
  }
 },
 "nbformat": 4,
 "nbformat_minor": 5
}
