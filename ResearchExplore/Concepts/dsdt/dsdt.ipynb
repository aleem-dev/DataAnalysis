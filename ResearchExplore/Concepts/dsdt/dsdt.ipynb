{
 "cells": [
  {
   "cell_type": "markdown",
   "id": "86d01c40",
   "metadata": {},
   "source": [
    "Task Goal\n",
    "Calculate the probability of being born in Canada in a particular year, using World Bank data on:\n",
    "\n",
    "- Birth Rate (SP.DYN.CBRT.IN) → births per 1,000 people\n",
    "\n",
    "- Total Population (SP.POP.TOTL) → total country population per year\n",
    "\n",
    "births = (birth_rate / 1000) * population\n",
    "probability = births_canada / births_world"
   ]
  },
  {
   "cell_type": "markdown",
   "id": "50e711fb",
   "metadata": {},
   "source": [
    "#### Fetch Data, world population and birth rate"
   ]
  },
  {
   "cell_type": "code",
   "execution_count": null,
   "id": "0aec189f",
   "metadata": {},
   "outputs": [
    {
     "name": "stdout",
     "output_type": "stream",
     "text": [
      "  economy                Country      YR2019      YR2020      YR2021  \\\n",
      "0     ZWE               Zimbabwe  15271368.0  15526888.0  15797210.0   \n",
      "1     ZMB                 Zambia  18513839.0  19059395.0  19603607.0   \n",
      "2     YEM            Yemen, Rep.  35111408.0  36134863.0  37140230.0   \n",
      "3     PSE     West Bank and Gaza   4685306.0   4803269.0   4922749.0   \n",
      "4     VIR  Virgin Islands (U.S.)    106669.0    106290.0    105870.0   \n",
      "\n",
      "       YR2022      YR2023  \n",
      "0  16069056.0  16340822.0  \n",
      "1  20152938.0  20723965.0  \n",
      "2  38222876.0  39390799.0  \n",
      "3   5043612.0   5165775.0  \n",
      "4    105413.0    104917.0  \n"
     ]
    }
   ],
   "source": [
    "# fetch birth rate for all countries\n",
    "import wbgapi as wb\n",
    "import pandas as pd\n",
    "import pprint\n",
    "\n",
    "# population fetch\n",
    "time=range(2019,2024)\n",
    "economy='all'\n",
    "series_totl_pop='SP.POP.TOTL'\n",
    "\n",
    "\n",
    "totl_pop_country_wise_dump = wb.data.DataFrame(series_totl_pop,economy=economy,time=time,labels=True).reset_index()\n",
    "print(totl_pop_country_wise_dump.head())\n",
    "# pprint.pprint(totl_pop_country_wise_dump.head())"
   ]
  },
  {
   "cell_type": "code",
   "execution_count": 12,
   "id": "f9247bb6",
   "metadata": {},
   "outputs": [
    {
     "name": "stdout",
     "output_type": "stream",
     "text": [
      "  code                country  year  population\n",
      "0  ZWE               Zimbabwe  2019  15271368.0\n",
      "1  ZMB                 Zambia  2019  18513839.0\n",
      "2  YEM            Yemen, Rep.  2019  35111408.0\n",
      "3  PSE     West Bank and Gaza  2019   4685306.0\n",
      "4  VIR  Virgin Islands (U.S.)  2019    106669.0\n",
      "1330\n",
      "   year    population\n",
      "0  2019  8.354924e+10\n",
      "1  2020  8.448114e+10\n",
      "2  2021  8.531826e+10\n",
      "3  2022  8.615821e+10\n",
      "4  2023  8.703543e+10\n"
     ]
    }
   ],
   "source": [
    "#condition population data\n",
    "totl_pop_country_wise = totl_pop_country_wise_dump.melt(\n",
    "    id_vars=['economy','Country'],\n",
    "    var_name='year',\n",
    "    value_name='population'\n",
    ")\n",
    "totl_pop_country_wise.columns=['code','country','year','population']\n",
    "totl_pop_country_wise['year']=totl_pop_country_wise['year'].str.replace('YR','').astype(int)\n",
    "print(totl_pop_country_wise.head())\n",
    "print(len(totl_pop_country_wise))\n",
    "\n",
    "totl_pop_by_year = totl_pop_country_wise.groupby('year')['population'].sum().reset_index()\n",
    "print(totl_pop_by_year.head())"
   ]
  },
  {
   "cell_type": "code",
   "execution_count": 16,
   "id": "bd7232b8",
   "metadata": {},
   "outputs": [
    {
     "name": "stdout",
     "output_type": "stream",
     "text": [
      "  economy                Country  YR2019  YR2020  YR2021  YR2022  YR2023\n",
      "0     ZWE               Zimbabwe  31.121  30.988  30.932  30.882  30.410\n",
      "1     ZMB                 Zambia  35.006  34.408  33.930  33.542  33.081\n",
      "2     YEM            Yemen, Rep.  35.947  35.895  35.668  35.407  35.209\n",
      "3     PSE     West Bank and Gaza  29.708  28.877  28.225  27.575  27.062\n",
      "4     VIR  Virgin Islands (U.S.)  12.300  12.100  11.800  11.600  11.400\n"
     ]
    }
   ],
   "source": [
    "# fetch birth rate data\n",
    "time=range(2019,2024)\n",
    "economy='all'\n",
    "series2='SP.DYN.CBRT.IN'\n",
    "\n",
    "birth_rate_country_wise_dump = wb.data.DataFrame(series=series2,economy=economy,time=time,labels=True).reset_index()\n",
    "print(birth_rate_country_wise_dump.head())"
   ]
  },
  {
   "cell_type": "markdown",
   "id": "ddded163",
   "metadata": {},
   "source": [
    "There is a data of INX having NaN for birthrate, same is replaced with mean() of the entire column in order to keep the birthrate newtral."
   ]
  },
  {
   "cell_type": "code",
   "execution_count": null,
   "id": "5a2f842a",
   "metadata": {},
   "outputs": [
    {
     "name": "stdout",
     "output_type": "stream",
     "text": [
      "  code                country  year  birthrate\n",
      "0  ZWE               Zimbabwe  2019     31.121\n",
      "1  ZMB                 Zambia  2019     35.006\n",
      "2  YEM            Yemen, Rep.  2019     35.947\n",
      "3  PSE     West Bank and Gaza  2019     29.708\n",
      "4  VIR  Virgin Islands (U.S.)  2019     12.300\n",
      "1330\n",
      "       index  0\n",
      "0       code  0\n",
      "1    country  0\n",
      "2       year  0\n",
      "3  birthrate  0\n",
      "Empty DataFrame\n",
      "Columns: [code, country, year, birthrate]\n",
      "Index: []\n"
     ]
    }
   ],
   "source": [
    "# condition population data\n",
    "birth_rate_country_wise = birth_rate_country_wise_dump.melt(\n",
    "    id_vars=['economy','Country'],\n",
    "    var_name='year',\n",
    "    value_name='birthrate'\n",
    ")\n",
    "birth_rate_country_wise.columns=['code','country','year','birthrate']\n",
    "birth_rate_country_wise['year']=birth_rate_country_wise['year'].str.replace('YR','').astype(int)\n",
    "print(birth_rate_country_wise.head())\n",
    "print(len(birth_rate_country_wise))\n",
    "na_count = birth_rate_country_wise.isna().sum().reset_index()\n",
    "print(na_count)\n",
    "print(birth_rate_country_wise[birth_rate_country_wise.isna().any(axis=1)])\n",
    "if(birth_rate_country_wise[birth_rate_country_wise['code']=='INX']):\n",
    "    birth_rate_country_wise['birthrate']= birth_rate_country_wise['birthrate'].fillna(birth_rate_country_wise['birthrate'].mean())"
   ]
  },
  {
   "cell_type": "markdown",
   "id": "32128798",
   "metadata": {},
   "source": [
    "Store data in sqlite database for futher calculations"
   ]
  },
  {
   "cell_type": "code",
   "execution_count": 66,
   "id": "f14f55fb",
   "metadata": {},
   "outputs": [
    {
     "name": "stdout",
     "output_type": "stream",
     "text": [
      "[('tbl_totl_county_pop',), ('tbl_totl_pop',), ('tbl_br_cnt',)]\n",
      "[(0, 'year', 'INTEGER', 0, None, 0), (1, 'population', 'REAL', 0, None, 0)]\n",
      "[(0, 'code', 'TEXT', 0, None, 0), (1, 'country', 'TEXT', 0, None, 0), (2, 'year', 'INTEGER', 0, None, 0), (3, 'birthrate', 'REAL', 0, None, 0)]\n"
     ]
    }
   ],
   "source": [
    "#create data base, and create tables to store population and birthrate data\n",
    "import sqlite3\n",
    "\n",
    "conn = sqlite3.connect('mapleroot.db',isolation_level=None)\n",
    "totl_pop_country_wise.to_sql('tbl_totl_county_pop',conn,if_exists='replace',index='False')\n",
    "totl_pop_by_year.to_sql('tbl_totl_pop',conn,if_exists='replace',index=False)\n",
    "birth_rate_country_wise.to_sql('tbl_br_cnt',conn,if_exists='replace',index=False)\n",
    "print(conn.execute('SELECT name FROM sqlite_schema WHERE type=\"table\"').fetchall())\n",
    "print(conn.execute('PRAGMA TABLE_INFO(\"tbl_totl_pop\")').fetchall())\n",
    "print(conn.execute('PRAGMA TABLE_INFO(\"tbl_br_cnt\")').fetchall())\n",
    "conn.close()"
   ]
  },
  {
   "cell_type": "code",
   "execution_count": 83,
   "id": "deb30093",
   "metadata": {},
   "outputs": [
    {
     "name": "stdout",
     "output_type": "stream",
     "text": [
      "   index code country  year  c_birthyear  c_population\n",
      "0    181  CAN  Canada  2019          9.9    37618495.0\n",
      "1    447  CAN  Canada  2020          9.5    38028638.0\n",
      "2    713  CAN  Canada  2021          9.7    38239864.0\n",
      "3    979  CAN  Canada  2022          9.0    38935934.0\n",
      "4   1245  CAN  Canada  2023          8.8    40083484.0\n"
     ]
    }
   ],
   "source": [
    "# create a table for Canada, code, year, C_birthrate, w_birthrate, c_pop, w_pop, c_ttl_birth, w_ttl_birth, c_probability\n",
    "conn = sqlite3.connect('mapleroot.db',isolation_level=None)\n",
    "quary = 'SELECT * FROM tbl_br_cnt'\n",
    "df_br_sql = pd.read_sql(quary,conn)\n",
    "# print(df_br_sql.head())\n",
    "\n",
    "quary = 'SELECT * FROM tbl_totl_pop'\n",
    "df_ttl_pop_sql = pd.read_sql(quary,conn)\n",
    "# print(df_ttl_pop_sql)\n",
    "\n",
    "df_maple_roots = df_br_sql[df_br_sql['code']=='CAN'].reset_index()\n",
    "# print(len(df_maple_roots))\n",
    "# print(df_maple_roots.columns)\n",
    "\n",
    "df_maple_roots.rename(columns={\"birthrate\":\"c_birthyear\"},inplace=True)\n",
    "\n",
    "# column: c_pop\n",
    "quary = 'SELECT * FROM tbl_totl_county_pop WHERE code=\"CAN\"'\n",
    "df_can_pop = pd.read_sql(quary,conn)\n",
    "# print(df_can_pop.head())\n",
    "df_maple_roots = df_maple_roots.merge(\n",
    "    df_can_pop[['code','year','population']],\n",
    "    on=['code','year'],\n",
    "    how='left'\n",
    ")\n",
    "df_maple_roots.rename(columns={'population':'c_population'},inplace=True)\n",
    "print(df_maple_roots.head())\n",
    "conn.close()\n",
    "\n"
   ]
  },
  {
   "cell_type": "code",
   "execution_count": 84,
   "id": "6ec929bc",
   "metadata": {},
   "outputs": [
    {
     "name": "stdout",
     "output_type": "stream",
     "text": [
      "   year  w_birthrate\n",
      "0  2019    19.244010\n",
      "1  2020    18.803416\n",
      "2  2021    18.535387\n",
      "3  2022    18.131408\n",
      "4  2023    17.807881\n",
      "   index code country  year  c_birthyear  c_population  w_birthrate\n",
      "0    181  CAN  Canada  2019          9.9    37618495.0    19.244010\n",
      "1    447  CAN  Canada  2020          9.5    38028638.0    18.803416\n",
      "2    713  CAN  Canada  2021          9.7    38239864.0    18.535387\n",
      "3    979  CAN  Canada  2022          9.0    38935934.0    18.131408\n",
      "4   1245  CAN  Canada  2023          8.8    40083484.0    17.807881\n"
     ]
    }
   ],
   "source": [
    "# add world birth rate from table tbl_br_cnt\n",
    "conn = sqlite3.connect('mapleroot.db',isolation_level=None)\n",
    "quary = 'SELECT year, AVG(birthrate) AS w_birthrate FROM tbl_br_cnt GROUP BY year'\n",
    "w_birthrate_df = pd.read_sql(quary,conn)\n",
    "print(w_birthrate_df.head())\n",
    "df_maple_roots = df_maple_roots.merge(\n",
    "    w_birthrate_df[['year','w_birthrate']],\n",
    "    on=['year'],\n",
    "    how='left'\n",
    ")\n",
    "print(df_maple_roots.head())\n",
    "conn.close()"
   ]
  },
  {
   "cell_type": "code",
   "execution_count": 88,
   "id": "5a0e24a0",
   "metadata": {},
   "outputs": [
    {
     "name": "stdout",
     "output_type": "stream",
     "text": [
      "   year  w_population\n",
      "0  2019  8.354924e+10\n",
      "1  2020  8.448114e+10\n",
      "2  2021  8.531826e+10\n",
      "3  2022  8.615821e+10\n",
      "4  2023  8.703543e+10\n",
      "   index code country  year  c_birthyear  c_population  w_birthrate  \\\n",
      "0    181  CAN  Canada  2019          9.9    37618495.0    19.244010   \n",
      "1    447  CAN  Canada  2020          9.5    38028638.0    18.803416   \n",
      "2    713  CAN  Canada  2021          9.7    38239864.0    18.535387   \n",
      "3    979  CAN  Canada  2022          9.0    38935934.0    18.131408   \n",
      "4   1245  CAN  Canada  2023          8.8    40083484.0    17.807881   \n",
      "\n",
      "   w_population  \n",
      "0  8.354924e+10  \n",
      "1  8.448114e+10  \n",
      "2  8.531826e+10  \n",
      "3  8.615821e+10  \n",
      "4  8.703543e+10  \n"
     ]
    }
   ],
   "source": [
    "# add world population from table tbl_totl_pop\n",
    "conn = sqlite3.connect('mapleroot.db',isolation_level=None)\n",
    "quary = 'SELECT year, population as w_population FROM tbl_totl_pop'\n",
    "totl_pop_df = pd.read_sql(quary,conn)\n",
    "print(totl_pop_df.head())\n",
    "df_maple_roots = df_maple_roots.merge(\n",
    "    totl_pop_df[['year','w_population']],\n",
    "    on=['year'],\n",
    "    how='left'\n",
    ")\n",
    "print(df_maple_roots.head())\n",
    "conn.close()"
   ]
  },
  {
   "cell_type": "code",
   "execution_count": null,
   "id": "f1ed1e5a",
   "metadata": {},
   "outputs": [
    {
     "name": "stdout",
     "output_type": "stream",
     "text": [
      "   index code country  year  c_birthrate  c_population  w_birthrate  \\\n",
      "0    181  CAN  Canada  2019          9.9    37618495.0    19.244010   \n",
      "1    447  CAN  Canada  2020          9.5    38028638.0    18.803416   \n",
      "2    713  CAN  Canada  2021          9.7    38239864.0    18.535387   \n",
      "3    979  CAN  Canada  2022          9.0    38935934.0    18.131408   \n",
      "4   1245  CAN  Canada  2023          8.8    40083484.0    17.807881   \n",
      "\n",
      "   w_population  \n",
      "0  8.354924e+10  \n",
      "1  8.448114e+10  \n",
      "2  8.531826e+10  \n",
      "3  8.615821e+10  \n",
      "4  8.703543e+10  \n"
     ]
    }
   ],
   "source": [
    "# correct error on column name\n",
    "df_maple_roots.rename(columns={'c_birthyear':'c_birthrate'},inplace=True)\n",
    "print(df_maple_roots.head())"
   ]
  },
  {
   "cell_type": "markdown",
   "id": "f72fd289",
   "metadata": {},
   "source": [
    "### calculation\n",
    "total Canada birth, total world birth, then calculate probability of birth in Canada compared to world"
   ]
  },
  {
   "cell_type": "code",
   "execution_count": 94,
   "id": "426ddbe8",
   "metadata": {},
   "outputs": [
    {
     "name": "stdout",
     "output_type": "stream",
     "text": [
      "   index code country  year  c_birthrate  c_population  w_birthrate  \\\n",
      "0    181  CAN  Canada  2019          9.9    37618495.0    19.244010   \n",
      "1    447  CAN  Canada  2020          9.5    38028638.0    18.803416   \n",
      "2    713  CAN  Canada  2021          9.7    38239864.0    18.535387   \n",
      "3    979  CAN  Canada  2022          9.0    38935934.0    18.131408   \n",
      "4   1245  CAN  Canada  2023          8.8    40083484.0    17.807881   \n",
      "\n",
      "   w_population      c_birth       w_birth  c_probability  \n",
      "0  8.354924e+10  372423.1005  1.607822e+09       0.000232  \n",
      "1  8.448114e+10  361272.0610  1.588534e+09       0.000227  \n",
      "2  8.531826e+10  370926.6808  1.581407e+09       0.000235  \n",
      "3  8.615821e+10  350423.4060  1.562170e+09       0.000224  \n",
      "4  8.703543e+10  352734.6592  1.549917e+09       0.000228  \n"
     ]
    }
   ],
   "source": [
    "# calculate total birth in Canada\n",
    "df_maple_roots['c_birth'] = (df_maple_roots['c_birthrate'] * df_maple_roots['c_population'])/1000\n",
    "df_maple_roots['w_birth'] = (df_maple_roots['w_birthrate'] * df_maple_roots['w_population'])/1000\n",
    "df_maple_roots['c_probability'] = (df_maple_roots['c_birth'] / df_maple_roots['w_birth'])\n",
    "print(df_maple_roots.head())"
   ]
  },
  {
   "cell_type": "code",
   "execution_count": 112,
   "id": "8a505365",
   "metadata": {},
   "outputs": [
    {
     "name": "stderr",
     "output_type": "stream",
     "text": [
      "C:\\Users\\shaik\\AppData\\Local\\Temp\\ipykernel_14852\\2045626642.py:10: UserWarning: No artists with labels found to put in legend.  Note that artists whose label start with an underscore are ignored when legend() is called with no argument.\n",
      "  plt.legend()\n"
     ]
    },
    {
     "data": {
      "image/png": "[encoded data removed]",
      "text/plain": [
       "<Figure size 800x500 with 1 Axes>"
      ]
     },
     "metadata": {},
     "output_type": "display_data"
    }
   ],
   "source": [
    "# Visualization\n",
    "import matplotlib.pyplot as plt\n",
    "\n",
    "plt.figure(figsize=(8,5))\n",
    "plt.bar(df_maple_roots['year'], df_maple_roots['c_population'])\n",
    "\n",
    "plt.title(\"Probability year on year\")\n",
    "plt.ylabel(\"Probability\")\n",
    "plt.xlabel(\"Year\")\n",
    "plt.legend()\n",
    "plt.tight_layout()\n",
    "plt.show()"
   ]
  },
  {
   "cell_type": "code",
   "execution_count": 115,
   "id": "bc38a917",
   "metadata": {},
   "outputs": [
    {
     "data": {
      "image/png": "[encoded data removed]",
      "text/plain": [
       "<Figure size 800x500 with 1 Axes>"
      ]
     },
     "metadata": {},
     "output_type": "display_data"
    }
   ],
   "source": [
    "plt.figure(figsize=(8,5))\n",
    "plt.plot(df_maple_roots['year'],df_maple_roots['c_birthrate'],label=df_maple_roots['country'].iloc[0])\n",
    "plt.plot(df_maple_roots['year'],df_maple_roots['w_birthrate'],label='World',color='green')\n",
    "\n",
    "plt.title(\"Birthrate trend Canada vs World\")\n",
    "plt.ylabel(\"Birthrate\")\n",
    "plt.xlabel(\"Year\")\n",
    "plt.legend()\n",
    "plt.grid(True)\n",
    "plt.tight_layout()\n",
    "plt.show()"
   ]
  },
  {
   "cell_type": "code",
   "execution_count": null,
   "id": "63669639",
   "metadata": {},
   "outputs": [
    {
     "name": "stdout",
     "output_type": "stream",
     "text": [
      "   index code country  year  c_birthrate  c_population  w_birthrate  \\\n",
      "0    181  CAN  Canada  2019          9.9    37618495.0    19.244010   \n",
      "1    447  CAN  Canada  2020          9.5    38028638.0    18.803416   \n",
      "2    713  CAN  Canada  2021          9.7    38239864.0    18.535387   \n",
      "3    979  CAN  Canada  2022          9.0    38935934.0    18.131408   \n",
      "4   1245  CAN  Canada  2023          8.8    40083484.0    17.807881   \n",
      "\n",
      "   w_population      c_birth       w_birth  c_probability  c_birth_growth  \n",
      "0  8.354924e+10  372423.1005  1.607822e+09       0.000232             NaN  \n",
      "1  8.448114e+10  361272.0610  1.588534e+09       0.000227       -0.029942  \n",
      "2  8.531826e+10  370926.6808  1.581407e+09       0.000235        0.026724  \n",
      "3  8.615821e+10  350423.4060  1.562170e+09       0.000224       -0.055276  \n",
      "4  8.703543e+10  352734.6592  1.549917e+09       0.000228        0.006596  \n"
     ]
    }
   ],
   "source": [
    "# calculate percentage of growth\n",
    "df_maple_roots['c_birth_growth'] = df_maple_roots['c_birth'].pct_change()\n",
    "print(df_maple_roots.head())"
   ]
  },
  {
   "cell_type": "code",
   "execution_count": null,
   "id": "a1f2158c",
   "metadata": {},
   "outputs": [
    {
     "data": {
      "image/png": "[encoded data removed]",
      "text/plain": [
       "<Figure size 800x500 with 1 Axes>"
      ]
     },
     "metadata": {},
     "output_type": "display_data"
    }
   ],
   "source": [
    "# plot growth rate\n",
    "plt.figure(figsize=(8,5))\n",
    "plt.plot(df_maple_roots['year'],df_maple_roots['c_birth_growth'], label=df_maple_roots['country'].iloc[0])\n",
    "\n",
    "plt.title(\"Yearly Population Birth Growth Rate\")\n",
    "plt.ylabel(\"Growth Rate\")\n",
    "plt.xlabel(\"Year\")\n",
    "plt.legend()\n",
    "plt.grid(True)\n",
    "plt.tight_layout()\n",
    "plt.show()"
   ]
  }
 ],
 "metadata": {
  "kernelspec": {
   "display_name": "Python 3",
   "language": "python",
   "name": "python3"
  },
  "language_info": {
   "codemirror_mode": {
    "name": "ipython",
    "version": 3
   },
   "file_extension": ".py",
   "mimetype": "text/x-python",
   "name": "python",
   "nbconvert_exporter": "python",
   "pygments_lexer": "ipython3",
   "version": "3.13.5"
  }
 },
 "nbformat": 4,
 "nbformat_minor": 5
}
