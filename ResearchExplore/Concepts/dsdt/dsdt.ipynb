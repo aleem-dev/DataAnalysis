{
 "cells": [
  {
   "cell_type": "markdown",
   "id": "86d01c40",
   "metadata": {},
   "source": [
    "Task Goal\n",
    "Calculate the probability of being born in Canada in a particular year, using World Bank data on:\n",
    "\n",
    "- Birth Rate (SP.DYN.CBRT.IN) → births per 1,000 people\n",
    "\n",
    "- Total Population (SP.POP.TOTL) → total country population per year\n",
    "\n",
    "births = (birth_rate / 1000) * population\n",
    "probability = births_canada / births_world"
   ]
  },
  {
   "cell_type": "markdown",
   "id": "50e711fb",
   "metadata": {},
   "source": [
    "#### Fetch Data, world population and birth rate"
   ]
  },
  {
   "cell_type": "code",
   "execution_count": null,
   "id": "0aec189f",
   "metadata": {},
   "outputs": [
    {
     "name": "stdout",
     "output_type": "stream",
     "text": [
      "  economy                Country      YR2019      YR2020      YR2021  \\\n",
      "0     ZWE               Zimbabwe  15271368.0  15526888.0  15797210.0   \n",
      "1     ZMB                 Zambia  18513839.0  19059395.0  19603607.0   \n",
      "2     YEM            Yemen, Rep.  35111408.0  36134863.0  37140230.0   \n",
      "3     PSE     West Bank and Gaza   4685306.0   4803269.0   4922749.0   \n",
      "4     VIR  Virgin Islands (U.S.)    106669.0    106290.0    105870.0   \n",
      "\n",
      "       YR2022      YR2023  \n",
      "0  16069056.0  16340822.0  \n",
      "1  20152938.0  20723965.0  \n",
      "2  38222876.0  39390799.0  \n",
      "3   5043612.0   5165775.0  \n",
      "4    105413.0    104917.0  \n"
     ]
    }
   ],
   "source": [
    "# fetch birth rate for all countries\n",
    "import wbgapi as wb\n",
    "import pandas as pd\n",
    "import pprint\n",
    "\n",
    "# population fetch\n",
    "time=range(2019,2024)\n",
    "economy='all'\n",
    "series_totl_pop='SP.POP.TOTL'\n",
    "\n",
    "\n",
    "totl_pop_country_wise_dump = wb.data.DataFrame(series_totl_pop,economy=economy,time=time,labels=True).reset_index()\n",
    "print(totl_pop_country_wise_dump.head())\n",
    "# pprint.pprint(totl_pop_country_wise_dump.head())"
   ]
  },
  {
   "cell_type": "code",
   "execution_count": 12,
   "id": "f9247bb6",
   "metadata": {},
   "outputs": [
    {
     "name": "stdout",
     "output_type": "stream",
     "text": [
      "  code                country  year  population\n",
      "0  ZWE               Zimbabwe  2019  15271368.0\n",
      "1  ZMB                 Zambia  2019  18513839.0\n",
      "2  YEM            Yemen, Rep.  2019  35111408.0\n",
      "3  PSE     West Bank and Gaza  2019   4685306.0\n",
      "4  VIR  Virgin Islands (U.S.)  2019    106669.0\n",
      "1330\n",
      "   year    population\n",
      "0  2019  8.354924e+10\n",
      "1  2020  8.448114e+10\n",
      "2  2021  8.531826e+10\n",
      "3  2022  8.615821e+10\n",
      "4  2023  8.703543e+10\n"
     ]
    }
   ],
   "source": [
    "#condition population data\n",
    "totl_pop_country_wise = totl_pop_country_wise_dump.melt(\n",
    "    id_vars=['economy','Country'],\n",
    "    var_name='year',\n",
    "    value_name='population'\n",
    ")\n",
    "totl_pop_country_wise.columns=['code','country','year','population']\n",
    "totl_pop_country_wise['year']=totl_pop_country_wise['year'].str.replace('YR','').astype(int)\n",
    "print(totl_pop_country_wise.head())\n",
    "print(len(totl_pop_country_wise))\n",
    "\n",
    "totl_pop_by_year = totl_pop_country_wise.groupby('year')['population'].sum().reset_index()\n",
    "print(totl_pop_by_year.head())"
   ]
  },
  {
   "cell_type": "code",
   "execution_count": 16,
   "id": "bd7232b8",
   "metadata": {},
   "outputs": [
    {
     "name": "stdout",
     "output_type": "stream",
     "text": [
      "  economy                Country  YR2019  YR2020  YR2021  YR2022  YR2023\n",
      "0     ZWE               Zimbabwe  31.121  30.988  30.932  30.882  30.410\n",
      "1     ZMB                 Zambia  35.006  34.408  33.930  33.542  33.081\n",
      "2     YEM            Yemen, Rep.  35.947  35.895  35.668  35.407  35.209\n",
      "3     PSE     West Bank and Gaza  29.708  28.877  28.225  27.575  27.062\n",
      "4     VIR  Virgin Islands (U.S.)  12.300  12.100  11.800  11.600  11.400\n"
     ]
    }
   ],
   "source": [
    "# fetch birth rate data\n",
    "time=range(2019,2024)\n",
    "economy='all'\n",
    "series2='SP.DYN.CBRT.IN'\n",
    "\n",
    "birth_rate_country_wise_dump = wb.data.DataFrame(series=series2,economy=economy,time=time,labels=True).reset_index()\n",
    "print(birth_rate_country_wise_dump.head())"
   ]
  },
  {
   "cell_type": "markdown",
   "id": "ddded163",
   "metadata": {},
   "source": [
    "There is a data of INX having NaN for birthrate, same is replaced with mean() of the entire column in order to keep the birthrate newtral."
   ]
  },
  {
   "cell_type": "code",
   "execution_count": null,
   "id": "5a2f842a",
   "metadata": {},
   "outputs": [
    {
     "name": "stdout",
     "output_type": "stream",
     "text": [
      "  code                country  year  birthrate\n",
      "0  ZWE               Zimbabwe  2019     31.121\n",
      "1  ZMB                 Zambia  2019     35.006\n",
      "2  YEM            Yemen, Rep.  2019     35.947\n",
      "3  PSE     West Bank and Gaza  2019     29.708\n",
      "4  VIR  Virgin Islands (U.S.)  2019     12.300\n",
      "1330\n",
      "       index  0\n",
      "0       code  0\n",
      "1    country  0\n",
      "2       year  0\n",
      "3  birthrate  0\n",
      "Empty DataFrame\n",
      "Columns: [code, country, year, birthrate]\n",
      "Index: []\n"
     ]
    }
   ],
   "source": [
    "# condition population data\n",
    "birth_rate_country_wise = birth_rate_country_wise_dump.melt(\n",
    "    id_vars=['economy','Country'],\n",
    "    var_name='year',\n",
    "    value_name='birthrate'\n",
    ")\n",
    "birth_rate_country_wise.columns=['code','country','year','birthrate']\n",
    "birth_rate_country_wise['year']=birth_rate_country_wise['year'].str.replace('YR','').astype(int)\n",
    "print(birth_rate_country_wise.head())\n",
    "print(len(birth_rate_country_wise))\n",
    "na_count = birth_rate_country_wise.isna().sum().reset_index()\n",
    "print(na_count)\n",
    "print(birth_rate_country_wise[birth_rate_country_wise.isna().any(axis=1)])\n",
    "if(birth_rate_country_wise[birth_rate_country_wise['code']=='INX']):\n",
    "    birth_rate_country_wise['birthrate']= birth_rate_country_wise['birthrate'].fillna(birth_rate_country_wise['birthrate'].mean())"
   ]
  },
  {
   "cell_type": "markdown",
   "id": "32128798",
   "metadata": {},
   "source": [
    "Store data in sqlite database for futher calculations"
   ]
  },
  {
   "cell_type": "code",
   "execution_count": null,
   "id": "f14f55fb",
   "metadata": {},
   "outputs": [
    {
     "name": "stdout",
     "output_type": "stream",
     "text": [
      "[('table', 'tbl_totl_pop', 'tbl_totl_pop', 2, 'CREATE TABLE \"tbl_totl_pop\" (\\n\"year\" INTEGER,\\n  \"population\" REAL\\n)'), ('table', 'tbl_br_cnt', 'tbl_br_cnt', 3, 'CREATE TABLE \"tbl_br_cnt\" (\\n\"code\" TEXT,\\n  \"country\" TEXT,\\n  \"year\" INTEGER,\\n  \"birthrate\" REAL\\n)')]\n",
      "[(0, 'year', 'INTEGER', 0, None, 0), (1, 'population', 'REAL', 0, None, 0)]\n",
      "[(0, 'code', 'TEXT', 0, None, 0), (1, 'country', 'TEXT', 0, None, 0), (2, 'year', 'INTEGER', 0, None, 0), (3, 'birthrate', 'REAL', 0, None, 0)]\n"
     ]
    }
   ],
   "source": [
    "#create data base, and create tables to store population and birthrate data\n",
    "import sqlite3\n",
    "\n",
    "conn = sqlite3.connect('mapleroot.db',isolation_level=None)\n",
    "totl_pop_by_year.to_sql('tbl_totl_pop',conn,if_exists='replace',index=False)\n",
    "birth_rate_country_wise.to_sql('tbl_br_cnt',conn,if_exists='replace',index=False)\n",
    "print(conn.execute('SELECT * FROM sqlite_schema WHERE type=\"table\"').fetchall())\n",
    "print(conn.execute('PRAGMA TABLE_INFO(\"tbl_totl_pop\")').fetchall())\n",
    "print(conn.execute('PRAGMA TABLE_INFO(\"tbl_br_cnt\")').fetchall())\n",
    "conn.close()"
   ]
  }
 ],
 "metadata": {
  "kernelspec": {
   "display_name": "Python 3",
   "language": "python",
   "name": "python3"
  },
  "language_info": {
   "codemirror_mode": {
    "name": "ipython",
    "version": 3
   },
   "file_extension": ".py",
   "mimetype": "text/x-python",
   "name": "python",
   "nbconvert_exporter": "python",
   "pygments_lexer": "ipython3",
   "version": "3.13.5"
  }
 },
 "nbformat": 4,
 "nbformat_minor": 5
}
