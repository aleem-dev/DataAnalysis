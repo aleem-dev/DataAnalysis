{
 "cells": [
  {
   "cell_type": "markdown",
   "id": "59356dbe",
   "metadata": {},
   "source": [
    "Time Series Population Trends\n",
    "- Track global population trends by country over multiple years to:\n",
    "- Calculate population growth rate\n",
    "- Estimate how probability of being born in a country changes over time\n",
    "- Spot long-term demographic shifts\n",
    "\n",
    "API → pandas → SQLite → SQL → pandas → math → visualization\n",
    "\n",
    "Goal: Analyze how the probability of being born in a country changes over time\n",
    "\n",
    "End-to-End Flow: World Bank API → pandas → SQLite → SQL → pandas → math → visualization\n",
    "\n",
    "For countries like India, Canada, Nigeria, you’ll:\n",
    "- Retrieve population data over a decade (e.g. 2010–2020)\n",
    "- Compute yearly growth & probability trends\n",
    "- Visualize change over time\n",
    "- Write insights like a reporting analyst"
   ]
  },
  {
   "cell_type": "code",
   "execution_count": 1,
   "id": "df36fb88",
   "metadata": {},
   "outputs": [
    {
     "data": {
      "text/html": [
       "<div>\n",
       "<style scoped>\n",
       "    .dataframe tbody tr th:only-of-type {\n",
       "        vertical-align: middle;\n",
       "    }\n",
       "\n",
       "    .dataframe tbody tr th {\n",
       "        vertical-align: top;\n",
       "    }\n",
       "\n",
       "    .dataframe thead th {\n",
       "        text-align: right;\n",
       "    }\n",
       "</style>\n",
       "<table border=\"1\" class=\"dataframe\">\n",
       "  <thead>\n",
       "    <tr style=\"text-align: right;\">\n",
       "      <th></th>\n",
       "      <th>economy</th>\n",
       "      <th>Country</th>\n",
       "      <th>YR2010</th>\n",
       "      <th>YR2011</th>\n",
       "      <th>YR2012</th>\n",
       "      <th>YR2013</th>\n",
       "      <th>YR2014</th>\n",
       "      <th>YR2015</th>\n",
       "      <th>YR2016</th>\n",
       "      <th>YR2017</th>\n",
       "      <th>YR2018</th>\n",
       "      <th>YR2019</th>\n",
       "    </tr>\n",
       "  </thead>\n",
       "  <tbody>\n",
       "    <tr>\n",
       "      <th>0</th>\n",
       "      <td>NGA</td>\n",
       "      <td>Nigeria</td>\n",
       "      <td>1.666429e+08</td>\n",
       "      <td>1.713796e+08</td>\n",
       "      <td>1.762006e+08</td>\n",
       "      <td>1.810494e+08</td>\n",
       "      <td>1.858969e+08</td>\n",
       "      <td>1.906719e+08</td>\n",
       "      <td>1.954437e+08</td>\n",
       "      <td>2.002546e+08</td>\n",
       "      <td>2.049388e+08</td>\n",
       "      <td>2.094856e+08</td>\n",
       "    </tr>\n",
       "    <tr>\n",
       "      <th>1</th>\n",
       "      <td>CAN</td>\n",
       "      <td>Canada</td>\n",
       "      <td>3.400590e+07</td>\n",
       "      <td>3.433922e+07</td>\n",
       "      <td>3.471340e+07</td>\n",
       "      <td>3.508099e+07</td>\n",
       "      <td>3.543407e+07</td>\n",
       "      <td>3.570450e+07</td>\n",
       "      <td>3.611080e+07</td>\n",
       "      <td>3.654508e+07</td>\n",
       "      <td>3.707262e+07</td>\n",
       "      <td>3.761850e+07</td>\n",
       "    </tr>\n",
       "    <tr>\n",
       "      <th>2</th>\n",
       "      <td>IND</td>\n",
       "      <td>India</td>\n",
       "      <td>1.243482e+09</td>\n",
       "      <td>1.261225e+09</td>\n",
       "      <td>1.278675e+09</td>\n",
       "      <td>1.295830e+09</td>\n",
       "      <td>1.312277e+09</td>\n",
       "      <td>1.328024e+09</td>\n",
       "      <td>1.343944e+09</td>\n",
       "      <td>1.359657e+09</td>\n",
       "      <td>1.374659e+09</td>\n",
       "      <td>1.389030e+09</td>\n",
       "    </tr>\n",
       "  </tbody>\n",
       "</table>\n",
       "</div>"
      ],
      "text/plain": [
       "  economy  Country        YR2010        YR2011        YR2012        YR2013  \\\n",
       "0     NGA  Nigeria  1.666429e+08  1.713796e+08  1.762006e+08  1.810494e+08   \n",
       "1     CAN   Canada  3.400590e+07  3.433922e+07  3.471340e+07  3.508099e+07   \n",
       "2     IND    India  1.243482e+09  1.261225e+09  1.278675e+09  1.295830e+09   \n",
       "\n",
       "         YR2014        YR2015        YR2016        YR2017        YR2018  \\\n",
       "0  1.858969e+08  1.906719e+08  1.954437e+08  2.002546e+08  2.049388e+08   \n",
       "1  3.543407e+07  3.570450e+07  3.611080e+07  3.654508e+07  3.707262e+07   \n",
       "2  1.312277e+09  1.328024e+09  1.343944e+09  1.359657e+09  1.374659e+09   \n",
       "\n",
       "         YR2019  \n",
       "0  2.094856e+08  \n",
       "1  3.761850e+07  \n",
       "2  1.389030e+09  "
      ]
     },
     "execution_count": 1,
     "metadata": {},
     "output_type": "execute_result"
    }
   ],
   "source": [
    "import wbgapi as wb\n",
    "import pandas as pd\n",
    "\n",
    "#fetch data\n",
    "\n",
    "# Indicator: SP.POP.TOTL = total population\n",
    "# Time range: 2010 to 2020\n",
    "# Country: India, Canada, Naigeria\n",
    "\n",
    "series = 'SP.POP.TOTL'\n",
    "countries=['IND','CAN','NGA']\n",
    "start = int(input('Enter start year:'))\n",
    "end = int(input('Enter end year: '))\n",
    "time = range(start,end)\n",
    "\n",
    "# df = wb.data.DataFrame(series='SP.POP.TOTL',economy=countries,time=range(2010,2020),labels=True).reset_index()\n",
    "\n",
    "# df = wb.data.DataFrame(\n",
    "#     series='SP.POP.TOTL',\n",
    "#     economy=countries,\n",
    "#     time=range(2010, 2021),\n",
    "#     labels=True\n",
    "# ).reset_index()\n",
    "\n",
    "df = wb.data.DataFrame(series=series,economy=countries,time=time,labels=True,).reset_index()\n",
    "\n",
    "df.head()"
   ]
  },
  {
   "cell_type": "code",
   "execution_count": 2,
   "id": "b3375d1c",
   "metadata": {},
   "outputs": [
    {
     "data": {
      "text/html": [
       "<div>\n",
       "<style scoped>\n",
       "    .dataframe tbody tr th:only-of-type {\n",
       "        vertical-align: middle;\n",
       "    }\n",
       "\n",
       "    .dataframe tbody tr th {\n",
       "        vertical-align: top;\n",
       "    }\n",
       "\n",
       "    .dataframe thead th {\n",
       "        text-align: right;\n",
       "    }\n",
       "</style>\n",
       "<table border=\"1\" class=\"dataframe\">\n",
       "  <thead>\n",
       "    <tr style=\"text-align: right;\">\n",
       "      <th></th>\n",
       "      <th>economy</th>\n",
       "      <th>Country</th>\n",
       "      <th>year</th>\n",
       "      <th>population</th>\n",
       "    </tr>\n",
       "  </thead>\n",
       "  <tbody>\n",
       "    <tr>\n",
       "      <th>0</th>\n",
       "      <td>NGA</td>\n",
       "      <td>Nigeria</td>\n",
       "      <td>2010</td>\n",
       "      <td>1.666429e+08</td>\n",
       "    </tr>\n",
       "    <tr>\n",
       "      <th>1</th>\n",
       "      <td>CAN</td>\n",
       "      <td>Canada</td>\n",
       "      <td>2010</td>\n",
       "      <td>3.400590e+07</td>\n",
       "    </tr>\n",
       "    <tr>\n",
       "      <th>2</th>\n",
       "      <td>IND</td>\n",
       "      <td>India</td>\n",
       "      <td>2010</td>\n",
       "      <td>1.243482e+09</td>\n",
       "    </tr>\n",
       "    <tr>\n",
       "      <th>3</th>\n",
       "      <td>NGA</td>\n",
       "      <td>Nigeria</td>\n",
       "      <td>2011</td>\n",
       "      <td>1.713796e+08</td>\n",
       "    </tr>\n",
       "    <tr>\n",
       "      <th>4</th>\n",
       "      <td>CAN</td>\n",
       "      <td>Canada</td>\n",
       "      <td>2011</td>\n",
       "      <td>3.433922e+07</td>\n",
       "    </tr>\n",
       "  </tbody>\n",
       "</table>\n",
       "</div>"
      ],
      "text/plain": [
       "  economy  Country  year    population\n",
       "0     NGA  Nigeria  2010  1.666429e+08\n",
       "1     CAN   Canada  2010  3.400590e+07\n",
       "2     IND    India  2010  1.243482e+09\n",
       "3     NGA  Nigeria  2011  1.713796e+08\n",
       "4     CAN   Canada  2011  3.433922e+07"
      ]
     },
     "execution_count": 2,
     "metadata": {},
     "output_type": "execute_result"
    }
   ],
   "source": [
    "# arrange the data\n",
    "# convert from wide to long data\n",
    "df_long = df.melt(id_vars=['economy','Country'],var_name='year',value_name='population')\n",
    "\n",
    "#remove YR from year column and make value as int\n",
    "df_long['year'] = df_long['year'].str.replace('YR','').astype(int)\n",
    "df_long.head()\n",
    "\n"
   ]
  },
  {
   "cell_type": "code",
   "execution_count": 3,
   "id": "f159ae70",
   "metadata": {},
   "outputs": [
    {
     "name": "stdout",
     "output_type": "stream",
     "text": [
      "   country  year    population\n",
      "0  Nigeria  2010  1.666429e+08\n",
      "1   Canada  2010  3.400590e+07\n",
      "2    India  2010  1.243482e+09\n",
      "3  Nigeria  2011  1.713796e+08\n",
      "4   Canada  2011  3.433922e+07\n"
     ]
    }
   ],
   "source": [
    "# remove column and rename column\n",
    "df = df_long[['Country','year','population']]\n",
    "df.columns = ['country', 'year', 'population']\n",
    "print(df.head())"
   ]
  },
  {
   "cell_type": "code",
   "execution_count": 4,
   "id": "0873303e",
   "metadata": {},
   "outputs": [
    {
     "name": "stdout",
     "output_type": "stream",
     "text": [
      "[('pop_trends',)]\n",
      "[('Nigeria', 2010, 166642886.0), ('Canada', 2010, 34005902.0), ('India', 2010, 1243481564.0), ('Nigeria', 2011, 171379598.0), ('Canada', 2011, 34339221.0)]\n",
      "[(0, 'country', 'TEXT', 0, None, 0), (1, 'year', 'INTEGER', 0, None, 0), (2, 'population', 'REAL', 0, None, 0)]\n"
     ]
    }
   ],
   "source": [
    "#store in sqlite\n",
    "import sqlite3\n",
    "\n",
    "conn = sqlite3.connect('population_time_series.db',isolation_level=None)\n",
    "df.to_sql('pop_trends',conn,if_exists='replace',index=False) #table name, connection, if exist replace, index = no idex\n",
    "\n",
    "quary = 'SELECT * FROM pop_trends LIMIT 5'\n",
    "print(conn.execute('SELECT name FROM sqlite_schema WHERE type=\"table\"').fetchall())\n",
    "print(conn.execute(quary).fetchall())\n",
    "print(conn.execute('PRAGMA TABLE_INFO(\"pop_trends\")').fetchall())"
   ]
  },
  {
   "cell_type": "code",
   "execution_count": 5,
   "id": "5004ae67",
   "metadata": {},
   "outputs": [
    {
     "name": "stdout",
     "output_type": "stream",
     "text": [
      "   country  year    population\n",
      "0  Nigeria  2010  1.666429e+08\n",
      "1   Canada  2010  3.400590e+07\n",
      "2    India  2010  1.243482e+09\n",
      "3  Nigeria  2011  1.713796e+08\n",
      "4   Canada  2011  3.433922e+07\n"
     ]
    }
   ],
   "source": [
    "# SQL to pandas to process various calculations\n",
    "quary = 'SELECT * FROM pop_trends'\n",
    "\n",
    "df_sql = pd.read_sql_query(quary, conn)\n",
    "print(df_sql.head())\n"
   ]
  },
  {
   "cell_type": "code",
   "execution_count": 6,
   "id": "bcc4cca5",
   "metadata": {},
   "outputs": [
    {
     "name": "stdout",
     "output_type": "stream",
     "text": [
      "   year  total_population\n",
      "0  2010      1.444130e+09\n",
      "1  2011      1.466944e+09\n",
      "2  2012      1.489589e+09\n",
      "3  2013      1.511960e+09\n",
      "4  2014      1.533608e+09\n",
      "5  2015      1.554401e+09\n",
      "6  2016      1.575499e+09\n",
      "7  2017      1.596457e+09\n",
      "8  2018      1.616670e+09\n",
      "9  2019      1.636134e+09\n"
     ]
    }
   ],
   "source": [
    "# calculate various parameters yearly growth and probability\n",
    "# Calculate total world population per year (limited to selected countries here)\n",
    "yearly_totals = df_sql.groupby('year')['population'].sum().reset_index()\n",
    "yearly_totals.columns=['year','total_population']\n",
    "print(yearly_totals)"
   ]
  },
  {
   "cell_type": "code",
   "execution_count": 7,
   "id": "4f3b8027",
   "metadata": {},
   "outputs": [
    {
     "name": "stdout",
     "output_type": "stream",
     "text": [
      "   country  year    population  total_population  probability    growth\n",
      "0  Nigeria  2010  1.666429e+08      1.444130e+09     0.115393  0.000000\n",
      "1   Canada  2010  3.400590e+07      1.444130e+09     0.023548  0.000000\n",
      "2    India  2010  1.243482e+09      1.444130e+09     0.861059  0.000000\n",
      "3  Nigeria  2011  1.713796e+08      1.466944e+09     0.116828  0.028424\n",
      "4   Canada  2011  3.433922e+07      1.466944e+09     0.023409  0.009802\n"
     ]
    },
    {
     "name": "stderr",
     "output_type": "stream",
     "text": [
      "C:\\Users\\shaik\\AppData\\Local\\Temp\\ipykernel_13740\\2598202848.py:10: FutureWarning: A value is trying to be set on a copy of a DataFrame or Series through chained assignment using an inplace method.\n",
      "The behavior will change in pandas 3.0. This inplace method will never work because the intermediate object on which we are setting values always behaves as a copy.\n",
      "\n",
      "For example, when doing 'df[col].method(value, inplace=True)', try using 'df.method({col: value}, inplace=True)' or df[col] = df[col].method(value) instead, to perform the operation inplace on the original object.\n",
      "\n",
      "\n",
      "  df_merged['growth'].fillna(0,inplace=True)\n"
     ]
    }
   ],
   "source": [
    "# calculate probability for each year for each country\n",
    "# crete new data fram by merging yearly_total on year\n",
    "\n",
    "df_merged = pd.merge(df_sql, yearly_totals, on='year')\n",
    "\n",
    "df_merged['probability'] = df_merged['population']/df_merged['total_population']\n",
    "\n",
    "# Yearly growth per country\n",
    "df_merged['growth'] = df_merged.groupby('country')['population'].pct_change()\n",
    "df_merged['growth'].fillna(0,inplace=True)\n",
    "print(df_merged.head())"
   ]
  },
  {
   "cell_type": "code",
   "execution_count": null,
   "id": "67cfab84",
   "metadata": {},
   "outputs": [
    {
     "name": "stdout",
     "output_type": "stream",
     "text": [
      "India\n"
     ]
    }
   ],
   "source": [
    "# figuring out which column we need for name\n",
    "temp = wb.economy.get(country)['value']\n",
    "print(temp)"
   ]
  },
  {
   "cell_type": "code",
   "execution_count": 12,
   "id": "94d162f1",
   "metadata": {},
   "outputs": [
    {
     "data": {
      "image/png": "[encoded data removed]",
      "text/plain": [
       "<Figure size 800x500 with 1 Axes>"
      ]
     },
     "metadata": {},
     "output_type": "display_data"
    }
   ],
   "source": [
    "# visualization\n",
    "import matplotlib.pyplot as plt\n",
    "\n",
    "plt.figure(figsize=(8,5))\n",
    "for country in df_merged['country'].unique():\n",
    "    # sub = df_merged[df_merged['country'] == wb.economy.get(country)['value']]\n",
    "    sub = df_merged[df_merged['country'] == country]\n",
    "    plt.plot(sub['year'], sub['probability'], label=sub['country'].iloc[0])\n",
    "\n",
    "plt.title(\"Probability of Being Born in Selected Countries (2010–2020)\")\n",
    "plt.ylabel(\"Probability\")\n",
    "plt.xlabel(\"Year\")\n",
    "plt.legend()\n",
    "plt.grid(True)\n",
    "plt.tight_layout()\n",
    "plt.show()"
   ]
  },
  {
   "cell_type": "code",
   "execution_count": 13,
   "id": "581c8364",
   "metadata": {},
   "outputs": [
    {
     "data": {
      "image/png": "[encoded data removed]",
      "text/plain": [
       "<Figure size 1000x600 with 1 Axes>"
      ]
     },
     "metadata": {},
     "output_type": "display_data"
    }
   ],
   "source": [
    "plt.figure(figsize=(10,6))\n",
    "for country in df_merged['country'].unique():\n",
    "    # sub = df_merged[df_merged['country'] == wb.economy.get(country)['value']]\n",
    "    sub = df_merged[df_merged['country'] == country]\n",
    "    plt.plot(sub['year'], sub['growth'], label=sub['country'].iloc[0])\n",
    "\n",
    "plt.title(\"Yearly Population Growth Rate\")\n",
    "plt.ylabel(\"Growth Rate\")\n",
    "plt.xlabel(\"Year\")\n",
    "plt.legend()\n",
    "plt.grid(True)\n",
    "plt.tight_layout()\n",
    "plt.show()\n"
   ]
  },
  {
   "cell_type": "markdown",
   "id": "11d39bde",
   "metadata": {},
   "source": [
    "Is India’s birth probability growing faster than Canada’s?\n",
    "No\n",
    "\n",
    "Did Nigeria have sharp population jumps tied to census or health efforts?\n",
    "Yes\n",
    "\n",
    "Which country shows flattening population — how might that affect education planning?\n",
    "India and Nigeria show signs of population stabilization, but given their massive base populations, education planning must still prioritize expanding school infrastructure, teacher recruitment, and digital access"
   ]
  }
 ],
 "metadata": {
  "kernelspec": {
   "display_name": "Python 3",
   "language": "python",
   "name": "python3"
  },
  "language_info": {
   "codemirror_mode": {
    "name": "ipython",
    "version": 3
   },
   "file_extension": ".py",
   "mimetype": "text/x-python",
   "name": "python",
   "nbconvert_exporter": "python",
   "pygments_lexer": "ipython3",
   "version": "3.13.5"
  }
 },
 "nbformat": 4,
 "nbformat_minor": 5
}
